{
 "cells": [
  {
   "cell_type": "markdown",
   "metadata": {},
   "source": [
    "# Midterm\n",
    "## Tasks\n",
    "### 1. Make the truth tables of following statements\n",
    "### with the help of PyDatalog:\n",
    "* (A∨¬A)↔B\n",
    "* A∨B\n",
    "* (A→B)∧(B→A)\n",
    "* (A∨(B∧¬A))∨(A∨¬(B∨A))\n",
    "\n",
    "### 2. Calculate the measure of ρ(0.6/b1+0.4/b2+0.7/b3) of following relationship, \n",
    "### norm is operator of multiplication and conorm is max\n",
    "### ![ro_full.png](attachment:ro_full.png)\n",
    "\n",
    "### 3 Make the PyDatalog statements of the following anecdot story of Mark Twain:\n",
    "“After long years as a bachelor I was tired of being alone and married a\n",
    "widow with a grown daughter. My father fell in love with the daughter\n",
    "and took her as his wife. This made me my own son-in-law and my\n",
    "stepdaughter became my mother. After a year my wife gave birth to a\n",
    "son. Now, my son was my father’s brother-in-law and at the same time\n",
    "my uncle, since he was my stepmother’s brother. But my father’s wife also\n",
    "gave birth to a son. So this was my brother and also my grandson, since\n",
    "he was the son of my daughter. This meant I’d married my grandmother,\n",
    "since she was the mother of my mother. As my wife’s husband, I was\n",
    "also her grandson. And since the husband of a grandmother is always a\n",
    "grandfather, I am my own grandfather.”\n",
    "\n",
    "### 4 Using the scikit-fuzzy solve the following control system:\n",
    "The car should move at a speed of at least 60 kmh along the street away from the traffic lights. The car should stop at the intersection on a red traffic light. If the traffic light flashes amber, then the car must cross the intersection at a speed below 40 kmh. If the rules are violated, the car gets into an accident.\n",
    "The traffic light mode: red, red and yellow, green, green flashing, yellow, red, etc.\n",
    "Simplified mode of traffic lights: red, yellow, green, yellow, red, etc.\n",
    "The traffic light may not work (off), the traffic light may flash yellow, the traffic light may be broken (all three signals are switched on simultaneously).\n",
    "The signal from the system of technical vision is not always 100% reliable.\n",
    "The vision system processes video images received from a television camera. The image of the traffic light is recognized during image processing. At the output of the system, a signal is generated from the distance to the traffic light and the color signal of the traffic light. The distance signal to the traffic light is measured in meters. If the traffic light is not found or the distance to it is over 140 m, then the value of this signal is 140 m.\n",
    "Antecednets (Inputs) variables:\n",
    "* distance to the traffic light,\n",
    "* the color of the traffic light,\n",
    "* speed.\n",
    "\n",
    "The Consequents (Outputs) variable is \n",
    "* the speed change.\n",
    "\n"
   ]
  },
  {
   "cell_type": "code",
   "execution_count": null,
   "metadata": {
    "collapsed": false
   },
   "outputs": [],
   "source": []
  },
  {
   "cell_type": "code",
   "execution_count": 29,
   "metadata": {
    "collapsed": false
   },
   "outputs": [
    {
     "name": "stdout",
     "output_type": "stream",
     "text": [
      "Answers for (A∨¬A)↔B\n",
      "X | Y | Func\n",
      "--|---|-----\n",
      "1 | 0 | 0   \n",
      "0 | 1 | 1   \n",
      "1 | 1 | 1   \n",
      "0 | 0 | 0   \n",
      "\n",
      "Answers for A∨B\n",
      "X | Y | Func\n",
      "--|---|-----\n",
      "1 | 0 | 1   \n",
      "0 | 1 | 1   \n",
      "0 | 0 | 0   \n",
      "1 | 1 | 1   \n",
      "\n",
      "Answers for (A→B)∧(B→A)\n",
      "X | Y | Func\n",
      "--|---|-----\n",
      "0 | 1 | 0   \n",
      "1 | 0 | 0   \n",
      "0 | 0 | 1   \n",
      "1 | 1 | 1   \n",
      "\n",
      "Answers for (A∨(B∧¬A))∨(A∨¬(B∨A))\n",
      "X | Y | Func\n",
      "--|---|-----\n",
      "1 | 0 | 1   \n",
      "0 | 1 | 1   \n",
      "1 | 1 | 1   \n",
      "0 | 0 | 1   \n",
      "\n"
     ]
    }
   ],
   "source": [
    "#task1\n",
    "from pyDatalog import pyDatalog as pyd\n",
    "\n",
    "values = [0, 1]\n",
    "#(A∨¬A)↔B defining\n",
    "def f(a, b):\n",
    "    return( (not(a or not(a)) or b) and (not(b) or (a or not(a))) )\n",
    "#A∨B defining\n",
    "def g(a, b):\n",
    "    return( a or b )\n",
    "#(A→B)∧(B→A) defining\n",
    "def h(a, b):\n",
    "    return( (not(a) or b) and (not(b) or a) )\n",
    "#(A∨(B∧¬A))∨(A∨¬(B∨A)) defining\n",
    "def j(a, b):\n",
    "    return( (a or (b and not(a))) or (a or not(b or a)) )\n",
    "    \n",
    "pyd.create_terms('X, Y, f, g, h, j, Func')\n",
    "#print tables\n",
    "print('Answers for (A∨¬A)↔B')\n",
    "print( (X.in_(values)) & (Y.in_(values) & (Func==f(X,Y))))\n",
    "print()\n",
    "\n",
    "print('Answers for A∨B')\n",
    "print( (X.in_(values)) & (Y.in_(values) & (Func==g(X,Y))))\n",
    "print()\n",
    "\n",
    "print('Answers for (A→B)∧(B→A)')\n",
    "print( (X.in_(values)) & (Y.in_(values) & (Func==h(X,Y))))\n",
    "print()\n",
    "\n",
    "print('Answers for (A∨(B∧¬A))∨(A∨¬(B∨A))')\n",
    "print( (X.in_(values)) & (Y.in_(values) & (Func==j(X,Y))))\n",
    "print()"
   ]
  },
  {
   "cell_type": "code",
   "execution_count": 30,
   "metadata": {
    "collapsed": false
   },
   "outputs": [
    {
     "name": "stdout",
     "output_type": "stream",
     "text": [
      "max is: 0.35\n"
     ]
    }
   ],
   "source": [
    "#task2\n",
    "from pyDatalog import pyDatalog as pyd\n",
    "\n",
    "#filled table\n",
    "p = [[0.5,0.2,0.4], [0.5,0.7,0.1],[0.2,0.5,0.5]] \n",
    "ans = 0 \n",
    "#fill the matrix with max values\n",
    "def f(b1 ,b2 ,b3): \n",
    "    return max(0.6*b1, 0.4*b2, 0.7*b3) \n",
    "#find the max value\n",
    "for i in p: \n",
    "    ans = max(ans, f(i[0], i[1], i[2])) \n",
    "\n",
    "print(\"max is:\", ans)"
   ]
  },
  {
   "cell_type": "code",
   "execution_count": 35,
   "metadata": {
    "collapsed": false
   },
   "outputs": [
    {
     "name": "stderr",
     "output_type": "stream",
     "text": [
      "INFO:pyDatalog.pyEngine:New fact : son('3','1')\n",
      "INFO:pyDatalog.pyEngine:New fact : married('3','4')\n",
      "INFO:pyDatalog.pyEngine:New fact : son('4','1')\n",
      "INFO:pyDatalog.pyEngine:New fact : married('4','3')\n",
      "INFO:pyDatalog.pyEngine:New fact : married('3','4')\n",
      "INFO:pyDatalog.pyEngine:New fact : married('4','3')\n",
      "INFO:pyDatalog.pyEngine:New fact : son('2','4')\n",
      "INFO:pyDatalog.pyEngine:New fact : married('1','2')\n",
      "INFO:pyDatalog.pyEngine:New fact : married('1','2')\n",
      "INFO:pyDatalog.pyEngine:New fact : married('2','1')\n",
      "INFO:pyDatalog.pyEngine:New fact : married('2','1')\n",
      "INFO:pyDatalog.pyEngine:New fact : son('1','4')\n",
      "INFO:pyDatalog.pyEngine:New fact : son('1','4')\n",
      "INFO:pyDatalog.pyEngine:New fact : married('1','2')\n",
      "INFO:pyDatalog.pyEngine:New fact : married('2','1')\n",
      "INFO:pyDatalog.pyEngine:New fact : grandpa('1','1')\n",
      "INFO:pyDatalog.pyEngine:New fact : _pyD_query28()\n"
     ]
    },
    {
     "name": "stdout",
     "output_type": "stream",
     "text": [
      "He is grandFather\n"
     ]
    }
   ],
   "source": [
    "#task3\n",
    "from pyDatalog import pyDatalog\n",
    "from pyDatalog import pyEngine\n",
    "pyDatalog.create_terms('X,Y,Z,U,W, married,son,getson,grandpa')\n",
    "#1- Mark Twein\n",
    "#2- Widow\n",
    "#3- Mark Twein`s father\n",
    "#4- Widow`s daughter\n",
    "#5- Mark Twein`s son\n",
    "#6- Mark Twein`s Father`s son | MT`s brother\n",
    "+married(1, 2) #MT+widow\n",
    "+married(3, 4) #MT Father + WidowDaughter\n",
    "\n",
    "married(X,Y) <= married(Y,X)\n",
    "+son(1, 5) #MT->son\n",
    "+son(2, 5) #Widow ->son\n",
    "+son(3, 6) #MTFather -> MT brother\n",
    "+son(4, 6) #WidowDaughter -> MT brother\n",
    "+son(3, 1) #MT father -> MT\n",
    "+son(2, 4) #Widow -> WidowDaughter\n",
    "\n",
    "son(X,Y) <= son(X, Y)\n",
    "\n",
    "son(Z, Y) <= son(X, Y) & married(X, Z)\n",
    "grandpa(X, Y) <= son(Z, Y) & son(X, Z)\n",
    "if(grandpa(1, 1)):\n",
    "    print('He is grandFather')"
   ]
  },
  {
   "cell_type": "code",
   "execution_count": null,
   "metadata": {
    "collapsed": false
   },
   "outputs": [],
   "source": []
  },
  {
   "cell_type": "code",
   "execution_count": null,
   "metadata": {
    "collapsed": true
   },
   "outputs": [],
   "source": []
  }
 ],
 "metadata": {
  "anaconda-cloud": {},
  "kernelspec": {
   "display_name": "Python [conda root]",
   "language": "python",
   "name": "conda-root-py"
  },
  "language_info": {
   "codemirror_mode": {
    "name": "ipython",
    "version": 3
   },
   "file_extension": ".py",
   "mimetype": "text/x-python",
   "name": "python",
   "nbconvert_exporter": "python",
   "pygments_lexer": "ipython3",
   "version": "3.5.2"
  }
 },
 "nbformat": 4,
 "nbformat_minor": 2
}
