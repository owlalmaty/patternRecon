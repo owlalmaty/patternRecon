{
 "cells": [
  {
   "cell_type": "markdown",
   "metadata": {},
   "source": [
    "# Midterm\n",
    "## Tasks\n",
    "### 1. Make the truth tables of following statements\n",
    "### with the help of PyDatalog:\n",
    "* (A∨¬A)↔B\n",
    "* A∨B\n",
    "* (A→B)∧(B→A)\n",
    "* (A∨(B∧¬A))∨(A∨¬(B∨A))\n",
    "\n",
    "### 2. Calculate the measure of ρ(0.6/b1+0.4/b2+0.7/b3) of following relationship, \n",
    "### norm is operator of multiplication and conorm is max\n",
    "### ![ro_full.png](attachment:ro_full.png)\n",
    "\n",
    "### 3 Make the PyDatalog statements of the following anecdot story of Mark Twain:\n",
    "“After long years as a bachelor I was tired of being alone and married a\n",
    "widow with a grown daughter. My father fell in love with the daughter\n",
    "and took her as his wife. This made me my own son-in-law and my\n",
    "stepdaughter became my mother. After a year my wife gave birth to a\n",
    "son. Now, my son was my father’s brother-in-law and at the same time\n",
    "my uncle, since he was my stepmother’s brother. But my father’s wife also\n",
    "gave birth to a son. So this was my brother and also my grandson, since\n",
    "he was the son of my daughter. This meant I’d married my grandmother,\n",
    "since she was the mother of my mother. As my wife’s husband, I was\n",
    "also her grandson. And since the husband of a grandmother is always a\n",
    "grandfather, I am my own grandfather.”\n",
    "\n",
    "### 4 Using the scikit-fuzzy solve the following control system:\n",
    "The car should move at a speed of at least 60 kmh along the street away from the traffic lights. The car should stop at the intersection on a red traffic light. If the traffic light flashes amber, then the car must cross the intersection at a speed below 40 kmh. If the rules are violated, the car gets into an accident.\n",
    "The traffic light mode: red, red and yellow, green, green flashing, yellow, red, etc.\n",
    "Simplified mode of traffic lights: red, yellow, green, yellow, red, etc.\n",
    "The traffic light may not work (off), the traffic light may flash yellow, the traffic light may be broken (all three signals are switched on simultaneously).\n",
    "The signal from the system of technical vision is not always 100% reliable.\n",
    "The vision system processes video images received from a television camera. The image of the traffic light is recognized during image processing. At the output of the system, a signal is generated from the distance to the traffic light and the color signal of the traffic light. The distance signal to the traffic light is measured in meters. If the traffic light is not found or the distance to it is over 140 m, then the value of this signal is 140 m.\n",
    "Antecednets (Inputs) variables:\n",
    "* distance to the traffic light,\n",
    "* the color of the traffic light,\n",
    "* speed.\n",
    "\n",
    "The Consequents (Outputs) variable is \n",
    "* the speed change.\n",
    "\n"
   ]
  },
  {
   "cell_type": "code",
   "execution_count": 3,
   "metadata": {
    "collapsed": false
   },
   "outputs": [
    {
     "ename": "AttributeError",
     "evalue": "'function' object has no attribute 'func_code'",
     "output_type": "error",
     "traceback": [
      "\u001b[0;31m---------------------------------------------------------------------------\u001b[0m",
      "\u001b[0;31mAttributeError\u001b[0m                            Traceback (most recent call last)",
      "\u001b[0;32m<ipython-input-3-f23d8d64906f>\u001b[0m in \u001b[0;36m<module>\u001b[0;34m()\u001b[0m\n\u001b[1;32m      8\u001b[0m     \u001b[0;32mreturn\u001b[0m \u001b[0mpd\u001b[0m\u001b[0;34m.\u001b[0m\u001b[0mDataFrame\u001b[0m\u001b[0;34m(\u001b[0m\u001b[0mvalues\u001b[0m\u001b[0;34m,\u001b[0m\u001b[0mcolumns\u001b[0m\u001b[0;34m=\u001b[0m\u001b[0;34m(\u001b[0m\u001b[0mlist\u001b[0m\u001b[0;34m(\u001b[0m\u001b[0mf\u001b[0m\u001b[0;34m.\u001b[0m\u001b[0mfunc_code\u001b[0m\u001b[0;34m.\u001b[0m\u001b[0mco_varnames\u001b[0m\u001b[0;34m)\u001b[0m \u001b[0;34m+\u001b[0m \u001b[0;34m[\u001b[0m\u001b[0mf\u001b[0m\u001b[0;34m.\u001b[0m\u001b[0mfunc_name\u001b[0m\u001b[0;34m]\u001b[0m\u001b[0;34m)\u001b[0m\u001b[0;34m)\u001b[0m\u001b[0;34m\u001b[0m\u001b[0m\n\u001b[1;32m      9\u001b[0m \u001b[0;34m\u001b[0m\u001b[0m\n\u001b[0;32m---> 10\u001b[0;31m \u001b[0mtruth_table\u001b[0m\u001b[0;34m(\u001b[0m\u001b[0mf\u001b[0m\u001b[0;34m)\u001b[0m\u001b[0;34m\u001b[0m\u001b[0m\n\u001b[0m",
      "\u001b[0;32m<ipython-input-3-f23d8d64906f>\u001b[0m in \u001b[0;36mtruth_table\u001b[0;34m(f)\u001b[0m\n\u001b[1;32m      5\u001b[0m     \u001b[0;32mreturn\u001b[0m \u001b[0;34m(\u001b[0m\u001b[0;34m(\u001b[0m\u001b[0ma\u001b[0m \u001b[0;32mor\u001b[0m \u001b[0;32mnot\u001b[0m \u001b[0ma\u001b[0m\u001b[0;34m)\u001b[0m \u001b[0;32mor\u001b[0m \u001b[0mb\u001b[0m\u001b[0;34m)\u001b[0m\u001b[0;34m\u001b[0m\u001b[0m\n\u001b[1;32m      6\u001b[0m \u001b[0;32mdef\u001b[0m \u001b[0mtruth_table\u001b[0m\u001b[0;34m(\u001b[0m\u001b[0mf\u001b[0m\u001b[0;34m)\u001b[0m\u001b[0;34m:\u001b[0m\u001b[0;34m\u001b[0m\u001b[0m\n\u001b[0;32m----> 7\u001b[0;31m     \u001b[0mvalues\u001b[0m \u001b[0;34m=\u001b[0m \u001b[0;34m[\u001b[0m\u001b[0mlist\u001b[0m\u001b[0;34m(\u001b[0m\u001b[0mx\u001b[0m\u001b[0;34m)\u001b[0m \u001b[0;34m+\u001b[0m \u001b[0;34m[\u001b[0m\u001b[0mf\u001b[0m\u001b[0;34m(\u001b[0m\u001b[0;34m*\u001b[0m\u001b[0mx\u001b[0m\u001b[0;34m)\u001b[0m\u001b[0;34m]\u001b[0m \u001b[0;32mfor\u001b[0m \u001b[0mx\u001b[0m \u001b[0;32min\u001b[0m \u001b[0mproduct\u001b[0m\u001b[0;34m(\u001b[0m\u001b[0;34m[\u001b[0m\u001b[0;32mFalse\u001b[0m\u001b[0;34m,\u001b[0m\u001b[0;32mTrue\u001b[0m\u001b[0;34m]\u001b[0m\u001b[0;34m,\u001b[0m \u001b[0mrepeat\u001b[0m\u001b[0;34m=\u001b[0m\u001b[0mf\u001b[0m\u001b[0;34m.\u001b[0m\u001b[0mfunc_code\u001b[0m\u001b[0;34m.\u001b[0m\u001b[0mco_argcount\u001b[0m\u001b[0;34m)\u001b[0m\u001b[0;34m]\u001b[0m\u001b[0;34m\u001b[0m\u001b[0m\n\u001b[0m\u001b[1;32m      8\u001b[0m     \u001b[0;32mreturn\u001b[0m \u001b[0mpd\u001b[0m\u001b[0;34m.\u001b[0m\u001b[0mDataFrame\u001b[0m\u001b[0;34m(\u001b[0m\u001b[0mvalues\u001b[0m\u001b[0;34m,\u001b[0m\u001b[0mcolumns\u001b[0m\u001b[0;34m=\u001b[0m\u001b[0;34m(\u001b[0m\u001b[0mlist\u001b[0m\u001b[0;34m(\u001b[0m\u001b[0mf\u001b[0m\u001b[0;34m.\u001b[0m\u001b[0mfunc_code\u001b[0m\u001b[0;34m.\u001b[0m\u001b[0mco_varnames\u001b[0m\u001b[0;34m)\u001b[0m \u001b[0;34m+\u001b[0m \u001b[0;34m[\u001b[0m\u001b[0mf\u001b[0m\u001b[0;34m.\u001b[0m\u001b[0mfunc_name\u001b[0m\u001b[0;34m]\u001b[0m\u001b[0;34m)\u001b[0m\u001b[0;34m)\u001b[0m\u001b[0;34m\u001b[0m\u001b[0m\n\u001b[1;32m      9\u001b[0m \u001b[0;34m\u001b[0m\u001b[0m\n",
      "\u001b[0;31mAttributeError\u001b[0m: 'function' object has no attribute 'func_code'"
     ]
    }
   ],
   "source": [
    "import pandas as pd\n",
    "from itertools import product\n",
    "\n",
    "def f(a, b):\n",
    "    return ((a or not a) or b) \n",
    "def truth_table(f):\n",
    "    values = [list(x) + [f(*x)] for x in product([False,True], repeat=f.func_code.co_argcount)]\n",
    "    return pd.DataFrame(values,columns=(list(f.func_code.co_varnames) + [f.func_name]))\n",
    "\n",
    "truth_table(f)"
   ]
  },
  {
   "cell_type": "code",
   "execution_count": 20,
   "metadata": {
    "collapsed": false
   },
   "outputs": [
    {
     "name": "stdout",
     "output_type": "stream",
     "text": [
      "Answers for (A∨¬A)↔B\n",
      "X | Y | Func\n",
      "--|---|-----\n",
      "1 | 1 | 1   \n",
      "0 | 0 | 0   \n",
      "1 | 0 | 0   \n",
      "0 | 1 | 1   \n",
      "\n",
      "Answers for A∨B\n",
      "X | Y | Func\n",
      "--|---|-----\n",
      "1 | 1 | 1   \n",
      "0 | 0 | 0   \n",
      "0 | 1 | 1   \n",
      "1 | 0 | 1   \n",
      "\n",
      "Answers for (A→B)∧(B→A)\n",
      "X | Y | Func\n",
      "--|---|-----\n",
      "1 | 1 | 1   \n",
      "0 | 0 | 1   \n",
      "1 | 0 | 0   \n",
      "0 | 1 | 0   \n",
      "\n",
      "Answers for (A∨(B∧¬A))∨(A∨¬(B∨A))\n",
      "X | Y | Func\n",
      "--|---|-----\n",
      "1 | 0 | 1   \n",
      "0 | 0 | 1   \n",
      "0 | 1 | 1   \n",
      "1 | 1 | 1   \n",
      "\n"
     ]
    }
   ],
   "source": [
    "#task1\n",
    "from pyDatalog import pyDatalog as pyd\n",
    "\n",
    "values = [0, 1]\n",
    "#(A∨¬A)↔B defining\n",
    "def f(a, b):\n",
    "    return( (not(a or not(a)) or b) and (not(b) or (a or not(a))) )\n",
    "#A∨B defining\n",
    "def g(a, b):\n",
    "    return( a or b )\n",
    "#(A→B)∧(B→A) defining\n",
    "def h(a, b):\n",
    "    return( (not(a) or b) and (not(b) or a) )\n",
    "#(A∨(B∧¬A))∨(A∨¬(B∨A)) defining\n",
    "def j(a, b):\n",
    "    return( (a or (b and not(a))) or (a or not(b or a)) )\n",
    "    \n",
    "pyd.create_terms('X, Y, f, g, h, j, Func')\n",
    "#print tables\n",
    "print('Answers for (A∨¬A)↔B')\n",
    "print( (X.in_(values)) & (Y.in_(values) & (Func==f(X,Y))))\n",
    "print()\n",
    "\n",
    "print('Answers for A∨B')\n",
    "print( (X.in_(values)) & (Y.in_(values) & (Func==g(X,Y))))\n",
    "print()\n",
    "\n",
    "print('Answers for (A→B)∧(B→A)')\n",
    "print( (X.in_(values)) & (Y.in_(values) & (Func==h(X,Y))))\n",
    "print()\n",
    "\n",
    "print('Answers for (A∨(B∧¬A))∨(A∨¬(B∨A))')\n",
    "print( (X.in_(values)) & (Y.in_(values) & (Func==j(X,Y))))\n",
    "print()"
   ]
  },
  {
   "cell_type": "code",
   "execution_count": 28,
   "metadata": {
    "collapsed": false
   },
   "outputs": [
    {
     "name": "stdout",
     "output_type": "stream",
     "text": [
      "max is: 0.35\n"
     ]
    }
   ],
   "source": [
    "#task2\n",
    "from pyDatalog import pyDatalog as pyd\n",
    "\n",
    "#filled table\n",
    "p = [[0.5,0.2,0.4], [0.5,0.7,0.1],[0.2,0.5,0.5]] \n",
    "ans = 0 \n",
    "#fill the matrix with max values\n",
    "def f(b1 ,b2 ,b3): \n",
    "    return max(0.6*b1, 0.4*b2, 0.7*b3) \n",
    "#find the max value\n",
    "for i in p: \n",
    "    ans = max(ans, f(i[0], i[1], i[2])) \n",
    "\n",
    "print(\"max is:\", ans)"
   ]
  },
  {
   "cell_type": "code",
   "execution_count": null,
   "metadata": {
    "collapsed": true
   },
   "outputs": [],
   "source": [
    "#task3\n",
    "from pyDatalog import pyDatalog\n",
    "import logging\n",
    "from pyDatalog import pyEngine\n",
    "pyEngine.Logging = True\n",
    "logging.basicConfig(level=logging.INFO)\n",
    "pyDatalog.create_terms('link, can_reach,X,Y,Z')"
   ]
  },
  {
   "cell_type": "code",
   "execution_count": null,
   "metadata": {
    "collapsed": true
   },
   "outputs": [],
   "source": [
    "from sqlalchemy.ext.declarative import declarative_base\n",
    "from sqlalchemy import create_engine\n",
    "from sqlalchemy.orm import sessionmaker\n",
    "from sqlalchemy import Column, Integer, String, ForeignKey\n",
    "\n",
    "# define a base class with SQLAlchemy and pyDatalog capabilities\n",
    "Base = declarative_base(cls=pyDatalog.Mixin, metaclass=pyDatalog.sqlMetaMixin)\n",
    "# create database in memory\n",
    "engine = create_engine('sqlite:///:memory:', echo=False)\n",
    "\n",
    "# open a session on a database, then associate it to the Base class\n",
    "Session = sessionmaker(bind=engine)\n",
    "session = Session()\n",
    "Base.session = session\n",
    "\n",
    "class Employee(Base): # Employee inherits from the Base class\n",
    "    __tablename__ = 'employee' # data are stored in the Employee table\n",
    "\n",
    "    name = Column(String, primary_key=True)\n",
    "#     manager_name = Column(String, ForeignKey('employee.name'))\n",
    "#     salary = Column(Integer)\n",
    "    def __init__(self, name): \n",
    "        # call the initialization method of the Mixin class\n",
    "        super(Employee, self).__init__()\n",
    "        self.name = name\n",
    "#         self.manager = manager     # direct manager of the employee, or None\n",
    "#         self.salary = salary       # monthly salary of the employee\n",
    "    \n",
    "    def __repr__(self): # specifies how to display an Employee\n",
    "        return self.name\n",
    "    \n",
    "# now create the table\n",
    "Base.metadata.create_all(engine)\n",
    "pyDatalog.create_terms('married, X, c, p')\n",
    "\n",
    "married(X,Y) <= married(Y,X)\n",
    "married(X,Y) <= p(X,Z) & p(Y, Z) & (X!=Y) #& (!married())\n",
    "\n",
    "MT = Employee('MT')\n",
    "MTFather = Employee('MTFather')\n",
    "Widow = Employee('Widow')\n",
    "WidowsDaughter = Employee('WidowsDaughter')\n",
    "MTSon = Employee('MTSon')\n",
    "MTfathersSecSon = Employee('MTfathersSecSon')"
   ]
  },
  {
   "cell_type": "code",
   "execution_count": null,
   "metadata": {
    "collapsed": true
   },
   "outputs": [],
   "source": []
  }
 ],
 "metadata": {
  "anaconda-cloud": {},
  "kernelspec": {
   "display_name": "Python [conda root]",
   "language": "python",
   "name": "conda-root-py"
  },
  "language_info": {
   "codemirror_mode": {
    "name": "ipython",
    "version": 3
   },
   "file_extension": ".py",
   "mimetype": "text/x-python",
   "name": "python",
   "nbconvert_exporter": "python",
   "pygments_lexer": "ipython3",
   "version": "3.5.2"
  }
 },
 "nbformat": 4,
 "nbformat_minor": 2
}
