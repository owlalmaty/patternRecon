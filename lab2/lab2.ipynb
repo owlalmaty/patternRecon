{
 "cells": [
  {
   "cell_type": "code",
   "execution_count": 66,
   "metadata": {
    "collapsed": true
   },
   "outputs": [],
   "source": [
    "from datetime import datetime\n",
    "import pandas as pd\n",
    "import numpy as np\n",
    "\n",
    "import matplotlib.pyplot as plt\n",
    "import seaborn as sns\n",
    "sns.set()\n",
    "%matplotlib inline"
   ]
  },
  {
   "cell_type": "code",
   "execution_count": 2,
   "metadata": {
    "collapsed": true
   },
   "outputs": [],
   "source": [
    "dataset = pd.read_csv('2 - dataset.csv')"
   ]
  },
  {
   "cell_type": "code",
   "execution_count": 4,
   "metadata": {},
   "outputs": [],
   "source": [
    "operations = pd.read_csv('1 - operations.csv')"
   ]
  },
  {
   "cell_type": "code",
   "execution_count": 5,
   "metadata": {},
   "outputs": [
    {
     "data": {
      "text/plain": [
       "(5393337, 6)"
      ]
     },
     "execution_count": 5,
     "metadata": {},
     "output_type": "execute_result"
    }
   ],
   "source": [
    "operations.shape"
   ]
  },
  {
   "cell_type": "code",
   "execution_count": 6,
   "metadata": {
    "collapsed": true
   },
   "outputs": [],
   "source": [
    "dataset_oper = pd.merge(dataset, operations, on='client_id')"
   ]
  },
  {
   "cell_type": "code",
   "execution_count": 7,
   "metadata": {},
   "outputs": [
    {
     "data": {
      "text/plain": [
       "(4103340, 7)"
      ]
     },
     "execution_count": 7,
     "metadata": {},
     "output_type": "execute_result"
    }
   ],
   "source": [
    "dataset_oper.shape"
   ]
  },
  {
   "cell_type": "code",
   "execution_count": 8,
   "metadata": {},
   "outputs": [
    {
     "data": {
      "text/html": [
       "<div>\n",
       "<style>\n",
       "    .dataframe thead tr:only-child th {\n",
       "        text-align: right;\n",
       "    }\n",
       "\n",
       "    .dataframe thead th {\n",
       "        text-align: left;\n",
       "    }\n",
       "\n",
       "    .dataframe tbody tr th {\n",
       "        vertical-align: top;\n",
       "    }\n",
       "</style>\n",
       "<table border=\"1\" class=\"dataframe\">\n",
       "  <thead>\n",
       "    <tr style=\"text-align: right;\">\n",
       "      <th></th>\n",
       "      <th>client_id</th>\n",
       "      <th>status</th>\n",
       "    </tr>\n",
       "  </thead>\n",
       "  <tbody>\n",
       "    <tr>\n",
       "      <th>0</th>\n",
       "      <td>31984797</td>\n",
       "      <td>1</td>\n",
       "    </tr>\n",
       "    <tr>\n",
       "      <th>1</th>\n",
       "      <td>95623488</td>\n",
       "      <td>1</td>\n",
       "    </tr>\n",
       "    <tr>\n",
       "      <th>2</th>\n",
       "      <td>21248516</td>\n",
       "      <td>1</td>\n",
       "    </tr>\n",
       "    <tr>\n",
       "      <th>3</th>\n",
       "      <td>83228517</td>\n",
       "      <td>1</td>\n",
       "    </tr>\n",
       "    <tr>\n",
       "      <th>4</th>\n",
       "      <td>29053196</td>\n",
       "      <td>1</td>\n",
       "    </tr>\n",
       "  </tbody>\n",
       "</table>\n",
       "</div>"
      ],
      "text/plain": [
       "   client_id  status\n",
       "0   31984797       1\n",
       "1   95623488       1\n",
       "2   21248516       1\n",
       "3   83228517       1\n",
       "4   29053196       1"
      ]
     },
     "execution_count": 8,
     "metadata": {},
     "output_type": "execute_result"
    }
   ],
   "source": [
    "dataset.head()"
   ]
  },
  {
   "cell_type": "code",
   "execution_count": 9,
   "metadata": {},
   "outputs": [
    {
     "data": {
      "text/html": [
       "<div>\n",
       "<style>\n",
       "    .dataframe thead tr:only-child th {\n",
       "        text-align: right;\n",
       "    }\n",
       "\n",
       "    .dataframe thead th {\n",
       "        text-align: left;\n",
       "    }\n",
       "\n",
       "    .dataframe tbody tr th {\n",
       "        vertical-align: top;\n",
       "    }\n",
       "</style>\n",
       "<table border=\"1\" class=\"dataframe\">\n",
       "  <thead>\n",
       "    <tr style=\"text-align: right;\">\n",
       "      <th></th>\n",
       "      <th>client_id</th>\n",
       "      <th>datetime</th>\n",
       "      <th>code</th>\n",
       "      <th>type</th>\n",
       "      <th>sum</th>\n",
       "      <th>source_id</th>\n",
       "    </tr>\n",
       "  </thead>\n",
       "  <tbody>\n",
       "    <tr>\n",
       "      <th>0</th>\n",
       "      <td>96372458</td>\n",
       "      <td>421 06:33:15</td>\n",
       "      <td>6011</td>\n",
       "      <td>2010</td>\n",
       "      <td>-561478.94</td>\n",
       "      <td>256572</td>\n",
       "    </tr>\n",
       "    <tr>\n",
       "      <th>1</th>\n",
       "      <td>64404394</td>\n",
       "      <td>399 06:56:49</td>\n",
       "      <td>6011</td>\n",
       "      <td>2010</td>\n",
       "      <td>-67377.47</td>\n",
       "      <td>330228</td>\n",
       "    </tr>\n",
       "    <tr>\n",
       "      <th>2</th>\n",
       "      <td>24567813</td>\n",
       "      <td>377 17:20:40</td>\n",
       "      <td>6011</td>\n",
       "      <td>7010</td>\n",
       "      <td>67377.47</td>\n",
       "      <td>542191</td>\n",
       "    </tr>\n",
       "    <tr>\n",
       "      <th>3</th>\n",
       "      <td>21717441</td>\n",
       "      <td>55 13:38:47</td>\n",
       "      <td>6011</td>\n",
       "      <td>2010</td>\n",
       "      <td>-44918.32</td>\n",
       "      <td>NaN</td>\n",
       "    </tr>\n",
       "    <tr>\n",
       "      <th>4</th>\n",
       "      <td>14331004</td>\n",
       "      <td>263 12:57:08</td>\n",
       "      <td>6011</td>\n",
       "      <td>2010</td>\n",
       "      <td>-3368873.66</td>\n",
       "      <td>980531</td>\n",
       "    </tr>\n",
       "  </tbody>\n",
       "</table>\n",
       "</div>"
      ],
      "text/plain": [
       "   client_id      datetime  code  type         sum source_id\n",
       "0   96372458  421 06:33:15  6011  2010  -561478.94    256572\n",
       "1   64404394  399 06:56:49  6011  2010   -67377.47    330228\n",
       "2   24567813  377 17:20:40  6011  7010    67377.47    542191\n",
       "3   21717441   55 13:38:47  6011  2010   -44918.32       NaN\n",
       "4   14331004  263 12:57:08  6011  2010 -3368873.66    980531"
      ]
     },
     "execution_count": 9,
     "metadata": {},
     "output_type": "execute_result"
    }
   ],
   "source": [
    "operations.head()"
   ]
  },
  {
   "cell_type": "code",
   "execution_count": 10,
   "metadata": {},
   "outputs": [
    {
     "data": {
      "text/html": [
       "<div>\n",
       "<style>\n",
       "    .dataframe thead tr:only-child th {\n",
       "        text-align: right;\n",
       "    }\n",
       "\n",
       "    .dataframe thead th {\n",
       "        text-align: left;\n",
       "    }\n",
       "\n",
       "    .dataframe tbody tr th {\n",
       "        vertical-align: top;\n",
       "    }\n",
       "</style>\n",
       "<table border=\"1\" class=\"dataframe\">\n",
       "  <thead>\n",
       "    <tr style=\"text-align: right;\">\n",
       "      <th></th>\n",
       "      <th>client_id</th>\n",
       "      <th>status</th>\n",
       "      <th>datetime</th>\n",
       "      <th>code</th>\n",
       "      <th>type</th>\n",
       "      <th>sum</th>\n",
       "      <th>source_id</th>\n",
       "    </tr>\n",
       "  </thead>\n",
       "  <tbody>\n",
       "    <tr>\n",
       "      <th>0</th>\n",
       "      <td>31984797</td>\n",
       "      <td>1</td>\n",
       "      <td>102 13:13:37</td>\n",
       "      <td>4814</td>\n",
       "      <td>1030</td>\n",
       "      <td>-2245.92</td>\n",
       "      <td>NaN</td>\n",
       "    </tr>\n",
       "    <tr>\n",
       "      <th>1</th>\n",
       "      <td>31984797</td>\n",
       "      <td>1</td>\n",
       "      <td>190 11:58:05</td>\n",
       "      <td>6011</td>\n",
       "      <td>7010</td>\n",
       "      <td>471642.31</td>\n",
       "      <td>NaN</td>\n",
       "    </tr>\n",
       "    <tr>\n",
       "      <th>2</th>\n",
       "      <td>31984797</td>\n",
       "      <td>1</td>\n",
       "      <td>70 17:43:60</td>\n",
       "      <td>4814</td>\n",
       "      <td>1030</td>\n",
       "      <td>-11229.58</td>\n",
       "      <td>NaN</td>\n",
       "    </tr>\n",
       "    <tr>\n",
       "      <th>3</th>\n",
       "      <td>31984797</td>\n",
       "      <td>1</td>\n",
       "      <td>401 12:41:50</td>\n",
       "      <td>4814</td>\n",
       "      <td>1030</td>\n",
       "      <td>-673.77</td>\n",
       "      <td>888928</td>\n",
       "    </tr>\n",
       "    <tr>\n",
       "      <th>4</th>\n",
       "      <td>31984797</td>\n",
       "      <td>1</td>\n",
       "      <td>322 16:02:37</td>\n",
       "      <td>6010</td>\n",
       "      <td>7070</td>\n",
       "      <td>1122.96</td>\n",
       "      <td>945021</td>\n",
       "    </tr>\n",
       "  </tbody>\n",
       "</table>\n",
       "</div>"
      ],
      "text/plain": [
       "   client_id  status      datetime  code  type        sum source_id\n",
       "0   31984797       1  102 13:13:37  4814  1030   -2245.92       NaN\n",
       "1   31984797       1  190 11:58:05  6011  7010  471642.31       NaN\n",
       "2   31984797       1   70 17:43:60  4814  1030  -11229.58       NaN\n",
       "3   31984797       1  401 12:41:50  4814  1030    -673.77    888928\n",
       "4   31984797       1  322 16:02:37  6010  7070    1122.96    945021"
      ]
     },
     "execution_count": 10,
     "metadata": {},
     "output_type": "execute_result"
    }
   ],
   "source": [
    "dataset_oper.head()"
   ]
  },
  {
   "cell_type": "code",
   "execution_count": 12,
   "metadata": {},
   "outputs": [],
   "source": [
    "codec = pd.read_csv('4 - codes.csv', sep=';')"
   ]
  },
  {
   "cell_type": "code",
   "execution_count": 19,
   "metadata": {},
   "outputs": [
    {
     "data": {
      "text/html": [
       "<div>\n",
       "<style>\n",
       "    .dataframe thead tr:only-child th {\n",
       "        text-align: right;\n",
       "    }\n",
       "\n",
       "    .dataframe thead th {\n",
       "        text-align: left;\n",
       "    }\n",
       "\n",
       "    .dataframe tbody tr th {\n",
       "        vertical-align: top;\n",
       "    }\n",
       "</style>\n",
       "<table border=\"1\" class=\"dataframe\">\n",
       "  <thead>\n",
       "    <tr style=\"text-align: right;\">\n",
       "      <th></th>\n",
       "      <th>code</th>\n",
       "      <th>code_description</th>\n",
       "    </tr>\n",
       "  </thead>\n",
       "  <tbody>\n",
       "    <tr>\n",
       "      <th>0</th>\n",
       "      <td>5944</td>\n",
       "      <td>Магазины по продаже часов, ювелирных изделий и...</td>\n",
       "    </tr>\n",
       "    <tr>\n",
       "      <th>1</th>\n",
       "      <td>5621</td>\n",
       "      <td>Готовая женская одежда</td>\n",
       "    </tr>\n",
       "    <tr>\n",
       "      <th>2</th>\n",
       "      <td>5697</td>\n",
       "      <td>Услуги по переделке, починке и пошиву одежды</td>\n",
       "    </tr>\n",
       "    <tr>\n",
       "      <th>3</th>\n",
       "      <td>7995</td>\n",
       "      <td>Транзакции по азартным играм</td>\n",
       "    </tr>\n",
       "    <tr>\n",
       "      <th>4</th>\n",
       "      <td>5137</td>\n",
       "      <td>Мужская, женская и детская спец-одежда</td>\n",
       "    </tr>\n",
       "  </tbody>\n",
       "</table>\n",
       "</div>"
      ],
      "text/plain": [
       "   code                                   code_description\n",
       "0  5944  Магазины по продаже часов, ювелирных изделий и...\n",
       "1  5621                             Готовая женская одежда\n",
       "2  5697       Услуги по переделке, починке и пошиву одежды\n",
       "3  7995                       Транзакции по азартным играм\n",
       "4  5137             Мужская, женская и детская спец-одежда"
      ]
     },
     "execution_count": 19,
     "metadata": {},
     "output_type": "execute_result"
    }
   ],
   "source": [
    "codec.head()"
   ]
  },
  {
   "cell_type": "code",
   "execution_count": 17,
   "metadata": {},
   "outputs": [],
   "source": [
    "types = pd.read_csv('3 - types.csv', sep=';')"
   ]
  },
  {
   "cell_type": "code",
   "execution_count": 22,
   "metadata": {},
   "outputs": [
    {
     "data": {
      "text/html": [
       "<div>\n",
       "<style>\n",
       "    .dataframe thead tr:only-child th {\n",
       "        text-align: right;\n",
       "    }\n",
       "\n",
       "    .dataframe thead th {\n",
       "        text-align: left;\n",
       "    }\n",
       "\n",
       "    .dataframe tbody tr th {\n",
       "        vertical-align: top;\n",
       "    }\n",
       "</style>\n",
       "<table border=\"1\" class=\"dataframe\">\n",
       "  <thead>\n",
       "    <tr style=\"text-align: right;\">\n",
       "      <th></th>\n",
       "      <th>type</th>\n",
       "      <th>type_description</th>\n",
       "    </tr>\n",
       "  </thead>\n",
       "  <tbody>\n",
       "    <tr>\n",
       "      <th>0</th>\n",
       "      <td>8001</td>\n",
       "      <td>Установление расх. лимита по</td>\n",
       "    </tr>\n",
       "    <tr>\n",
       "      <th>1</th>\n",
       "      <td>2411</td>\n",
       "      <td>Перевод с карты на счет др.лица в одном тер. б...</td>\n",
       "    </tr>\n",
       "    <tr>\n",
       "      <th>2</th>\n",
       "      <td>4035</td>\n",
       "      <td>н/д</td>\n",
       "    </tr>\n",
       "    <tr>\n",
       "      <th>3</th>\n",
       "      <td>3001</td>\n",
       "      <td>Комиссия за обслуживание ссудного счета</td>\n",
       "    </tr>\n",
       "    <tr>\n",
       "      <th>4</th>\n",
       "      <td>2420</td>\n",
       "      <td>Перевод с карты на счет физ.лица в другом тер....</td>\n",
       "    </tr>\n",
       "  </tbody>\n",
       "</table>\n",
       "</div>"
      ],
      "text/plain": [
       "   type                                   type_description\n",
       "0  8001                      Установление расх. лимита по \n",
       "1  2411  Перевод с карты на счет др.лица в одном тер. б...\n",
       "2  4035                                                н/д\n",
       "3  3001            Комиссия за обслуживание ссудного счета\n",
       "4  2420  Перевод с карты на счет физ.лица в другом тер...."
      ]
     },
     "execution_count": 22,
     "metadata": {},
     "output_type": "execute_result"
    }
   ],
   "source": [
    "types.head()"
   ]
  },
  {
   "cell_type": "code",
   "execution_count": 21,
   "metadata": {},
   "outputs": [],
   "source": [
    "data_oper_codec = pd.merge(dataset_oper, codec, on='code')"
   ]
  },
  {
   "cell_type": "code",
   "execution_count": 23,
   "metadata": {
    "collapsed": true
   },
   "outputs": [],
   "source": [
    "data_oper_codec_type = pd.merge(data_oper_codec, types, on='type')"
   ]
  },
  {
   "cell_type": "code",
   "execution_count": 24,
   "metadata": {},
   "outputs": [
    {
     "data": {
      "text/plain": [
       "(4101723, 9)"
      ]
     },
     "execution_count": 24,
     "metadata": {},
     "output_type": "execute_result"
    }
   ],
   "source": [
    "data_oper_codec_type.shape"
   ]
  },
  {
   "cell_type": "code",
   "execution_count": 26,
   "metadata": {},
   "outputs": [
    {
     "data": {
      "text/html": [
       "<div>\n",
       "<style>\n",
       "    .dataframe thead tr:only-child th {\n",
       "        text-align: right;\n",
       "    }\n",
       "\n",
       "    .dataframe thead th {\n",
       "        text-align: left;\n",
       "    }\n",
       "\n",
       "    .dataframe tbody tr th {\n",
       "        vertical-align: top;\n",
       "    }\n",
       "</style>\n",
       "<table border=\"1\" class=\"dataframe\">\n",
       "  <thead>\n",
       "    <tr style=\"text-align: right;\">\n",
       "      <th></th>\n",
       "      <th>client_id</th>\n",
       "      <th>status</th>\n",
       "      <th>datetime</th>\n",
       "      <th>code</th>\n",
       "      <th>type</th>\n",
       "      <th>sum</th>\n",
       "      <th>source_id</th>\n",
       "      <th>code_description</th>\n",
       "      <th>type_description</th>\n",
       "    </tr>\n",
       "  </thead>\n",
       "  <tbody>\n",
       "    <tr>\n",
       "      <th>0</th>\n",
       "      <td>31984797</td>\n",
       "      <td>1</td>\n",
       "      <td>102 13:13:37</td>\n",
       "      <td>4814</td>\n",
       "      <td>1030</td>\n",
       "      <td>-2245.92</td>\n",
       "      <td>NaN</td>\n",
       "      <td>Звонки с использованием телефонов, считывающих...</td>\n",
       "      <td>Оплата услуги. Банкоматы СБ РФ</td>\n",
       "    </tr>\n",
       "    <tr>\n",
       "      <th>1</th>\n",
       "      <td>31984797</td>\n",
       "      <td>1</td>\n",
       "      <td>70 17:43:60</td>\n",
       "      <td>4814</td>\n",
       "      <td>1030</td>\n",
       "      <td>-11229.58</td>\n",
       "      <td>NaN</td>\n",
       "      <td>Звонки с использованием телефонов, считывающих...</td>\n",
       "      <td>Оплата услуги. Банкоматы СБ РФ</td>\n",
       "    </tr>\n",
       "    <tr>\n",
       "      <th>2</th>\n",
       "      <td>31984797</td>\n",
       "      <td>1</td>\n",
       "      <td>401 12:41:50</td>\n",
       "      <td>4814</td>\n",
       "      <td>1030</td>\n",
       "      <td>-673.77</td>\n",
       "      <td>888928</td>\n",
       "      <td>Звонки с использованием телефонов, считывающих...</td>\n",
       "      <td>Оплата услуги. Банкоматы СБ РФ</td>\n",
       "    </tr>\n",
       "    <tr>\n",
       "      <th>3</th>\n",
       "      <td>31984797</td>\n",
       "      <td>1</td>\n",
       "      <td>135 14:38:08</td>\n",
       "      <td>4814</td>\n",
       "      <td>1030</td>\n",
       "      <td>-5143.15</td>\n",
       "      <td>NaN</td>\n",
       "      <td>Звонки с использованием телефонов, считывающих...</td>\n",
       "      <td>Оплата услуги. Банкоматы СБ РФ</td>\n",
       "    </tr>\n",
       "    <tr>\n",
       "      <th>4</th>\n",
       "      <td>31984797</td>\n",
       "      <td>1</td>\n",
       "      <td>200 16:31:19</td>\n",
       "      <td>4814</td>\n",
       "      <td>1030</td>\n",
       "      <td>-2245.92</td>\n",
       "      <td>NaN</td>\n",
       "      <td>Звонки с использованием телефонов, считывающих...</td>\n",
       "      <td>Оплата услуги. Банкоматы СБ РФ</td>\n",
       "    </tr>\n",
       "  </tbody>\n",
       "</table>\n",
       "</div>"
      ],
      "text/plain": [
       "   client_id  status      datetime  code  type       sum source_id  \\\n",
       "0   31984797       1  102 13:13:37  4814  1030  -2245.92       NaN   \n",
       "1   31984797       1   70 17:43:60  4814  1030 -11229.58       NaN   \n",
       "2   31984797       1  401 12:41:50  4814  1030   -673.77    888928   \n",
       "3   31984797       1  135 14:38:08  4814  1030  -5143.15       NaN   \n",
       "4   31984797       1  200 16:31:19  4814  1030  -2245.92       NaN   \n",
       "\n",
       "                                    code_description  \\\n",
       "0  Звонки с использованием телефонов, считывающих...   \n",
       "1  Звонки с использованием телефонов, считывающих...   \n",
       "2  Звонки с использованием телефонов, считывающих...   \n",
       "3  Звонки с использованием телефонов, считывающих...   \n",
       "4  Звонки с использованием телефонов, считывающих...   \n",
       "\n",
       "                 type_description  \n",
       "0  Оплата услуги. Банкоматы СБ РФ  \n",
       "1  Оплата услуги. Банкоматы СБ РФ  \n",
       "2  Оплата услуги. Банкоматы СБ РФ  \n",
       "3  Оплата услуги. Банкоматы СБ РФ  \n",
       "4  Оплата услуги. Банкоматы СБ РФ  "
      ]
     },
     "execution_count": 26,
     "metadata": {},
     "output_type": "execute_result"
    }
   ],
   "source": [
    "data_oper_codec_type.head()"
   ]
  },
  {
   "cell_type": "code",
   "execution_count": 55,
   "metadata": {
    "collapsed": true
   },
   "outputs": [],
   "source": [
    "del data\n",
    "data = data_oper_codec_type.copy()"
   ]
  },
  {
   "cell_type": "code",
   "execution_count": 56,
   "metadata": {},
   "outputs": [
    {
     "data": {
      "text/plain": [
       "(4101723, 9)"
      ]
     },
     "execution_count": 56,
     "metadata": {},
     "output_type": "execute_result"
    }
   ],
   "source": [
    "data.shape"
   ]
  },
  {
   "cell_type": "code",
   "execution_count": 57,
   "metadata": {},
   "outputs": [
    {
     "data": {
      "text/html": [
       "<div>\n",
       "<style>\n",
       "    .dataframe thead tr:only-child th {\n",
       "        text-align: right;\n",
       "    }\n",
       "\n",
       "    .dataframe thead th {\n",
       "        text-align: left;\n",
       "    }\n",
       "\n",
       "    .dataframe tbody tr th {\n",
       "        vertical-align: top;\n",
       "    }\n",
       "</style>\n",
       "<table border=\"1\" class=\"dataframe\">\n",
       "  <thead>\n",
       "    <tr style=\"text-align: right;\">\n",
       "      <th></th>\n",
       "      <th>client_id</th>\n",
       "      <th>status</th>\n",
       "      <th>datetime</th>\n",
       "      <th>code</th>\n",
       "      <th>type</th>\n",
       "      <th>sum</th>\n",
       "      <th>source_id</th>\n",
       "      <th>code_description</th>\n",
       "      <th>type_description</th>\n",
       "    </tr>\n",
       "  </thead>\n",
       "  <tbody>\n",
       "    <tr>\n",
       "      <th>0</th>\n",
       "      <td>31984797</td>\n",
       "      <td>1</td>\n",
       "      <td>102 13:13:37</td>\n",
       "      <td>4814</td>\n",
       "      <td>1030</td>\n",
       "      <td>-2245.92</td>\n",
       "      <td>NaN</td>\n",
       "      <td>Звонки с использованием телефонов, считывающих...</td>\n",
       "      <td>Оплата услуги. Банкоматы СБ РФ</td>\n",
       "    </tr>\n",
       "    <tr>\n",
       "      <th>1</th>\n",
       "      <td>31984797</td>\n",
       "      <td>1</td>\n",
       "      <td>70 17:43:60</td>\n",
       "      <td>4814</td>\n",
       "      <td>1030</td>\n",
       "      <td>-11229.58</td>\n",
       "      <td>NaN</td>\n",
       "      <td>Звонки с использованием телефонов, считывающих...</td>\n",
       "      <td>Оплата услуги. Банкоматы СБ РФ</td>\n",
       "    </tr>\n",
       "    <tr>\n",
       "      <th>2</th>\n",
       "      <td>31984797</td>\n",
       "      <td>1</td>\n",
       "      <td>401 12:41:50</td>\n",
       "      <td>4814</td>\n",
       "      <td>1030</td>\n",
       "      <td>-673.77</td>\n",
       "      <td>888928</td>\n",
       "      <td>Звонки с использованием телефонов, считывающих...</td>\n",
       "      <td>Оплата услуги. Банкоматы СБ РФ</td>\n",
       "    </tr>\n",
       "    <tr>\n",
       "      <th>3</th>\n",
       "      <td>31984797</td>\n",
       "      <td>1</td>\n",
       "      <td>135 14:38:08</td>\n",
       "      <td>4814</td>\n",
       "      <td>1030</td>\n",
       "      <td>-5143.15</td>\n",
       "      <td>NaN</td>\n",
       "      <td>Звонки с использованием телефонов, считывающих...</td>\n",
       "      <td>Оплата услуги. Банкоматы СБ РФ</td>\n",
       "    </tr>\n",
       "    <tr>\n",
       "      <th>4</th>\n",
       "      <td>31984797</td>\n",
       "      <td>1</td>\n",
       "      <td>200 16:31:19</td>\n",
       "      <td>4814</td>\n",
       "      <td>1030</td>\n",
       "      <td>-2245.92</td>\n",
       "      <td>NaN</td>\n",
       "      <td>Звонки с использованием телефонов, считывающих...</td>\n",
       "      <td>Оплата услуги. Банкоматы СБ РФ</td>\n",
       "    </tr>\n",
       "  </tbody>\n",
       "</table>\n",
       "</div>"
      ],
      "text/plain": [
       "   client_id  status      datetime  code  type       sum source_id  \\\n",
       "0   31984797       1  102 13:13:37  4814  1030  -2245.92       NaN   \n",
       "1   31984797       1   70 17:43:60  4814  1030 -11229.58       NaN   \n",
       "2   31984797       1  401 12:41:50  4814  1030   -673.77    888928   \n",
       "3   31984797       1  135 14:38:08  4814  1030  -5143.15       NaN   \n",
       "4   31984797       1  200 16:31:19  4814  1030  -2245.92       NaN   \n",
       "\n",
       "                                    code_description  \\\n",
       "0  Звонки с использованием телефонов, считывающих...   \n",
       "1  Звонки с использованием телефонов, считывающих...   \n",
       "2  Звонки с использованием телефонов, считывающих...   \n",
       "3  Звонки с использованием телефонов, считывающих...   \n",
       "4  Звонки с использованием телефонов, считывающих...   \n",
       "\n",
       "                 type_description  \n",
       "0  Оплата услуги. Банкоматы СБ РФ  \n",
       "1  Оплата услуги. Банкоматы СБ РФ  \n",
       "2  Оплата услуги. Банкоматы СБ РФ  \n",
       "3  Оплата услуги. Банкоматы СБ РФ  \n",
       "4  Оплата услуги. Банкоматы СБ РФ  "
      ]
     },
     "execution_count": 57,
     "metadata": {},
     "output_type": "execute_result"
    }
   ],
   "source": [
    "data.head()"
   ]
  },
  {
   "cell_type": "code",
   "execution_count": 58,
   "metadata": {},
   "outputs": [
    {
     "data": {
      "text/html": [
       "<div>\n",
       "<style>\n",
       "    .dataframe thead tr:only-child th {\n",
       "        text-align: right;\n",
       "    }\n",
       "\n",
       "    .dataframe thead th {\n",
       "        text-align: left;\n",
       "    }\n",
       "\n",
       "    .dataframe tbody tr th {\n",
       "        vertical-align: top;\n",
       "    }\n",
       "</style>\n",
       "<table border=\"1\" class=\"dataframe\">\n",
       "  <thead>\n",
       "    <tr style=\"text-align: right;\">\n",
       "      <th></th>\n",
       "      <th>client_id</th>\n",
       "      <th>status</th>\n",
       "      <th>code</th>\n",
       "      <th>type</th>\n",
       "      <th>sum</th>\n",
       "    </tr>\n",
       "  </thead>\n",
       "  <tbody>\n",
       "    <tr>\n",
       "      <th>count</th>\n",
       "      <td>4.101723e+06</td>\n",
       "      <td>4.101723e+06</td>\n",
       "      <td>4.101723e+06</td>\n",
       "      <td>4.101723e+06</td>\n",
       "      <td>4.101723e+06</td>\n",
       "    </tr>\n",
       "    <tr>\n",
       "      <th>mean</th>\n",
       "      <td>5.089502e+07</td>\n",
       "      <td>4.851022e-01</td>\n",
       "      <td>5.592849e+03</td>\n",
       "      <td>2.499337e+03</td>\n",
       "      <td>-2.091074e+04</td>\n",
       "    </tr>\n",
       "    <tr>\n",
       "      <th>std</th>\n",
       "      <td>2.865764e+07</td>\n",
       "      <td>4.997781e-01</td>\n",
       "      <td>6.032087e+02</td>\n",
       "      <td>2.259388e+03</td>\n",
       "      <td>5.017032e+05</td>\n",
       "    </tr>\n",
       "    <tr>\n",
       "      <th>min</th>\n",
       "      <td>2.289900e+04</td>\n",
       "      <td>0.000000e+00</td>\n",
       "      <td>7.420000e+02</td>\n",
       "      <td>1.000000e+03</td>\n",
       "      <td>-1.347549e+08</td>\n",
       "    </tr>\n",
       "    <tr>\n",
       "      <th>25%</th>\n",
       "      <td>2.599296e+07</td>\n",
       "      <td>0.000000e+00</td>\n",
       "      <td>5.211000e+03</td>\n",
       "      <td>1.030000e+03</td>\n",
       "      <td>-2.245916e+04</td>\n",
       "    </tr>\n",
       "    <tr>\n",
       "      <th>50%</th>\n",
       "      <td>5.243300e+07</td>\n",
       "      <td>0.000000e+00</td>\n",
       "      <td>5.641000e+03</td>\n",
       "      <td>1.110000e+03</td>\n",
       "      <td>-5.524950e+03</td>\n",
       "    </tr>\n",
       "    <tr>\n",
       "      <th>75%</th>\n",
       "      <td>7.499280e+07</td>\n",
       "      <td>1.000000e+00</td>\n",
       "      <td>6.010000e+03</td>\n",
       "      <td>2.370000e+03</td>\n",
       "      <td>-1.122960e+03</td>\n",
       "    </tr>\n",
       "    <tr>\n",
       "      <th>max</th>\n",
       "      <td>9.999968e+07</td>\n",
       "      <td>1.000000e+00</td>\n",
       "      <td>9.402000e+03</td>\n",
       "      <td>8.146000e+03</td>\n",
       "      <td>1.347549e+08</td>\n",
       "    </tr>\n",
       "  </tbody>\n",
       "</table>\n",
       "</div>"
      ],
      "text/plain": [
       "          client_id        status          code          type           sum\n",
       "count  4.101723e+06  4.101723e+06  4.101723e+06  4.101723e+06  4.101723e+06\n",
       "mean   5.089502e+07  4.851022e-01  5.592849e+03  2.499337e+03 -2.091074e+04\n",
       "std    2.865764e+07  4.997781e-01  6.032087e+02  2.259388e+03  5.017032e+05\n",
       "min    2.289900e+04  0.000000e+00  7.420000e+02  1.000000e+03 -1.347549e+08\n",
       "25%    2.599296e+07  0.000000e+00  5.211000e+03  1.030000e+03 -2.245916e+04\n",
       "50%    5.243300e+07  0.000000e+00  5.641000e+03  1.110000e+03 -5.524950e+03\n",
       "75%    7.499280e+07  1.000000e+00  6.010000e+03  2.370000e+03 -1.122960e+03\n",
       "max    9.999968e+07  1.000000e+00  9.402000e+03  8.146000e+03  1.347549e+08"
      ]
     },
     "execution_count": 58,
     "metadata": {},
     "output_type": "execute_result"
    }
   ],
   "source": [
    "data.describe()"
   ]
  },
  {
   "cell_type": "code",
   "execution_count": 59,
   "metadata": {},
   "outputs": [
    {
     "data": {
      "text/plain": [
       "['13', '13', '37']"
      ]
     },
     "execution_count": 59,
     "metadata": {},
     "output_type": "execute_result"
    }
   ],
   "source": [
    "data['datetime'][0].split()[1].split(':')"
   ]
  },
  {
   "cell_type": "code",
   "execution_count": 60,
   "metadata": {},
   "outputs": [],
   "source": [
    "data['datetime'] = data['datetime'].apply(lambda x: datetime.utcfromtimestamp(1483228800+int(int(x.split()[0])*86400)+int(int(x.split()[1].split(':')[0])*3600+int(x.split()[1].split(':')[1])*60+int(x.split()[1].split(':')[2]))).strftime('%Y-%m-%d %H:%M:%S'))"
   ]
  },
  {
   "cell_type": "code",
   "execution_count": 61,
   "metadata": {},
   "outputs": [
    {
     "data": {
      "text/plain": [
       "(4101723, 9)"
      ]
     },
     "execution_count": 61,
     "metadata": {},
     "output_type": "execute_result"
    }
   ],
   "source": [
    "data.shape"
   ]
  },
  {
   "cell_type": "code",
   "execution_count": 63,
   "metadata": {},
   "outputs": [
    {
     "data": {
      "text/html": [
       "<div>\n",
       "<style>\n",
       "    .dataframe thead tr:only-child th {\n",
       "        text-align: right;\n",
       "    }\n",
       "\n",
       "    .dataframe thead th {\n",
       "        text-align: left;\n",
       "    }\n",
       "\n",
       "    .dataframe tbody tr th {\n",
       "        vertical-align: top;\n",
       "    }\n",
       "</style>\n",
       "<table border=\"1\" class=\"dataframe\">\n",
       "  <thead>\n",
       "    <tr style=\"text-align: right;\">\n",
       "      <th></th>\n",
       "      <th>client_id</th>\n",
       "      <th>status</th>\n",
       "      <th>datetime</th>\n",
       "      <th>code</th>\n",
       "      <th>type</th>\n",
       "      <th>sum</th>\n",
       "      <th>source_id</th>\n",
       "      <th>code_description</th>\n",
       "      <th>type_description</th>\n",
       "    </tr>\n",
       "  </thead>\n",
       "  <tbody>\n",
       "    <tr>\n",
       "      <th>0</th>\n",
       "      <td>31984797</td>\n",
       "      <td>1</td>\n",
       "      <td>2017-04-13 13:13:37</td>\n",
       "      <td>4814</td>\n",
       "      <td>1030</td>\n",
       "      <td>-2245.92</td>\n",
       "      <td>NaN</td>\n",
       "      <td>Звонки с использованием телефонов, считывающих...</td>\n",
       "      <td>Оплата услуги. Банкоматы СБ РФ</td>\n",
       "    </tr>\n",
       "    <tr>\n",
       "      <th>1</th>\n",
       "      <td>31984797</td>\n",
       "      <td>1</td>\n",
       "      <td>2017-03-12 17:44:00</td>\n",
       "      <td>4814</td>\n",
       "      <td>1030</td>\n",
       "      <td>-11229.58</td>\n",
       "      <td>NaN</td>\n",
       "      <td>Звонки с использованием телефонов, считывающих...</td>\n",
       "      <td>Оплата услуги. Банкоматы СБ РФ</td>\n",
       "    </tr>\n",
       "    <tr>\n",
       "      <th>2</th>\n",
       "      <td>31984797</td>\n",
       "      <td>1</td>\n",
       "      <td>2018-02-06 12:41:50</td>\n",
       "      <td>4814</td>\n",
       "      <td>1030</td>\n",
       "      <td>-673.77</td>\n",
       "      <td>888928</td>\n",
       "      <td>Звонки с использованием телефонов, считывающих...</td>\n",
       "      <td>Оплата услуги. Банкоматы СБ РФ</td>\n",
       "    </tr>\n",
       "    <tr>\n",
       "      <th>3</th>\n",
       "      <td>31984797</td>\n",
       "      <td>1</td>\n",
       "      <td>2017-05-16 14:38:08</td>\n",
       "      <td>4814</td>\n",
       "      <td>1030</td>\n",
       "      <td>-5143.15</td>\n",
       "      <td>NaN</td>\n",
       "      <td>Звонки с использованием телефонов, считывающих...</td>\n",
       "      <td>Оплата услуги. Банкоматы СБ РФ</td>\n",
       "    </tr>\n",
       "    <tr>\n",
       "      <th>4</th>\n",
       "      <td>31984797</td>\n",
       "      <td>1</td>\n",
       "      <td>2017-07-20 16:31:19</td>\n",
       "      <td>4814</td>\n",
       "      <td>1030</td>\n",
       "      <td>-2245.92</td>\n",
       "      <td>NaN</td>\n",
       "      <td>Звонки с использованием телефонов, считывающих...</td>\n",
       "      <td>Оплата услуги. Банкоматы СБ РФ</td>\n",
       "    </tr>\n",
       "  </tbody>\n",
       "</table>\n",
       "</div>"
      ],
      "text/plain": [
       "   client_id  status             datetime  code  type       sum source_id  \\\n",
       "0   31984797       1  2017-04-13 13:13:37  4814  1030  -2245.92       NaN   \n",
       "1   31984797       1  2017-03-12 17:44:00  4814  1030 -11229.58       NaN   \n",
       "2   31984797       1  2018-02-06 12:41:50  4814  1030   -673.77    888928   \n",
       "3   31984797       1  2017-05-16 14:38:08  4814  1030  -5143.15       NaN   \n",
       "4   31984797       1  2017-07-20 16:31:19  4814  1030  -2245.92       NaN   \n",
       "\n",
       "                                    code_description  \\\n",
       "0  Звонки с использованием телефонов, считывающих...   \n",
       "1  Звонки с использованием телефонов, считывающих...   \n",
       "2  Звонки с использованием телефонов, считывающих...   \n",
       "3  Звонки с использованием телефонов, считывающих...   \n",
       "4  Звонки с использованием телефонов, считывающих...   \n",
       "\n",
       "                 type_description  \n",
       "0  Оплата услуги. Банкоматы СБ РФ  \n",
       "1  Оплата услуги. Банкоматы СБ РФ  \n",
       "2  Оплата услуги. Банкоматы СБ РФ  \n",
       "3  Оплата услуги. Банкоматы СБ РФ  \n",
       "4  Оплата услуги. Банкоматы СБ РФ  "
      ]
     },
     "execution_count": 63,
     "metadata": {},
     "output_type": "execute_result"
    }
   ],
   "source": [
    "data.head()"
   ]
  },
  {
   "cell_type": "code",
   "execution_count": 62,
   "metadata": {},
   "outputs": [
    {
     "data": {
      "text/plain": [
       "'2017-01-01 00:00:00'"
      ]
     },
     "execution_count": 62,
     "metadata": {},
     "output_type": "execute_result"
    }
   ],
   "source": [
    "datetime.utcfromtimestamp(1483228800).strftime('%Y-%m-%d %H:%M:%S')"
   ]
  },
  {
   "cell_type": "code",
   "execution_count": null,
   "metadata": {
    "collapsed": true
   },
   "outputs": [],
   "source": []
  },
  {
   "cell_type": "code",
   "execution_count": 65,
   "metadata": {},
   "outputs": [
    {
     "data": {
      "text/html": [
       "<div>\n",
       "<style>\n",
       "    .dataframe thead tr:only-child th {\n",
       "        text-align: right;\n",
       "    }\n",
       "\n",
       "    .dataframe thead th {\n",
       "        text-align: left;\n",
       "    }\n",
       "\n",
       "    .dataframe tbody tr th {\n",
       "        vertical-align: top;\n",
       "    }\n",
       "</style>\n",
       "<table border=\"1\" class=\"dataframe\">\n",
       "  <thead>\n",
       "    <tr style=\"text-align: right;\">\n",
       "      <th></th>\n",
       "      <th>client_id</th>\n",
       "      <th>status</th>\n",
       "      <th>code</th>\n",
       "      <th>type</th>\n",
       "      <th>sum</th>\n",
       "    </tr>\n",
       "  </thead>\n",
       "  <tbody>\n",
       "    <tr>\n",
       "      <th>count</th>\n",
       "      <td>4.101723e+06</td>\n",
       "      <td>4.101723e+06</td>\n",
       "      <td>4.101723e+06</td>\n",
       "      <td>4.101723e+06</td>\n",
       "      <td>4.101723e+06</td>\n",
       "    </tr>\n",
       "    <tr>\n",
       "      <th>mean</th>\n",
       "      <td>5.089502e+07</td>\n",
       "      <td>4.851022e-01</td>\n",
       "      <td>5.592849e+03</td>\n",
       "      <td>2.499337e+03</td>\n",
       "      <td>-2.091074e+04</td>\n",
       "    </tr>\n",
       "    <tr>\n",
       "      <th>std</th>\n",
       "      <td>2.865764e+07</td>\n",
       "      <td>4.997781e-01</td>\n",
       "      <td>6.032087e+02</td>\n",
       "      <td>2.259388e+03</td>\n",
       "      <td>5.017032e+05</td>\n",
       "    </tr>\n",
       "    <tr>\n",
       "      <th>min</th>\n",
       "      <td>2.289900e+04</td>\n",
       "      <td>0.000000e+00</td>\n",
       "      <td>7.420000e+02</td>\n",
       "      <td>1.000000e+03</td>\n",
       "      <td>-1.347549e+08</td>\n",
       "    </tr>\n",
       "    <tr>\n",
       "      <th>25%</th>\n",
       "      <td>2.599296e+07</td>\n",
       "      <td>0.000000e+00</td>\n",
       "      <td>5.211000e+03</td>\n",
       "      <td>1.030000e+03</td>\n",
       "      <td>-2.245916e+04</td>\n",
       "    </tr>\n",
       "    <tr>\n",
       "      <th>50%</th>\n",
       "      <td>5.243300e+07</td>\n",
       "      <td>0.000000e+00</td>\n",
       "      <td>5.641000e+03</td>\n",
       "      <td>1.110000e+03</td>\n",
       "      <td>-5.524950e+03</td>\n",
       "    </tr>\n",
       "    <tr>\n",
       "      <th>75%</th>\n",
       "      <td>7.499280e+07</td>\n",
       "      <td>1.000000e+00</td>\n",
       "      <td>6.010000e+03</td>\n",
       "      <td>2.370000e+03</td>\n",
       "      <td>-1.122960e+03</td>\n",
       "    </tr>\n",
       "    <tr>\n",
       "      <th>max</th>\n",
       "      <td>9.999968e+07</td>\n",
       "      <td>1.000000e+00</td>\n",
       "      <td>9.402000e+03</td>\n",
       "      <td>8.146000e+03</td>\n",
       "      <td>1.347549e+08</td>\n",
       "    </tr>\n",
       "  </tbody>\n",
       "</table>\n",
       "</div>"
      ],
      "text/plain": [
       "          client_id        status          code          type           sum\n",
       "count  4.101723e+06  4.101723e+06  4.101723e+06  4.101723e+06  4.101723e+06\n",
       "mean   5.089502e+07  4.851022e-01  5.592849e+03  2.499337e+03 -2.091074e+04\n",
       "std    2.865764e+07  4.997781e-01  6.032087e+02  2.259388e+03  5.017032e+05\n",
       "min    2.289900e+04  0.000000e+00  7.420000e+02  1.000000e+03 -1.347549e+08\n",
       "25%    2.599296e+07  0.000000e+00  5.211000e+03  1.030000e+03 -2.245916e+04\n",
       "50%    5.243300e+07  0.000000e+00  5.641000e+03  1.110000e+03 -5.524950e+03\n",
       "75%    7.499280e+07  1.000000e+00  6.010000e+03  2.370000e+03 -1.122960e+03\n",
       "max    9.999968e+07  1.000000e+00  9.402000e+03  8.146000e+03  1.347549e+08"
      ]
     },
     "execution_count": 65,
     "metadata": {},
     "output_type": "execute_result"
    }
   ],
   "source": [
    "data.describebe()"
   ]
  },
  {
   "cell_type": "code",
   "execution_count": 68,
   "metadata": {},
   "outputs": [
    {
     "data": {
      "image/png": "[encoded data removed]",
      "text/plain": [
       "<matplotlib.figure.Figure at 0x10b18c668>"
      ]
     },
     "metadata": {},
     "output_type": "display_data"
    }
   ],
   "source": [
    "data['sum'].hist(bins=50)\n",
    "plt.show()"
   ]
  },
  {
   "cell_type": "code",
   "execution_count": 69,
   "metadata": {},
   "outputs": [
    {
     "data": {
      "image/png": "[encoded data removed]",
      "text/plain": [
       "<matplotlib.figure.Figure at 0x173be1dd8>"
      ]
     },
     "metadata": {},
     "output_type": "display_data"
    }
   ],
   "source": [
    "data['status'].hist(bins=50)\n",
    "plt.show()"
   ]
  },
  {
   "cell_type": "code",
   "execution_count": 70,
   "metadata": {},
   "outputs": [
    {
     "data": {
      "image/png": "[encoded data removed]",
      "text/plain": [
       "<matplotlib.figure.Figure at 0x107f75a58>"
      ]
     },
     "metadata": {},
     "output_type": "display_data"
    }
   ],
   "source": [
    "data['client_id'].hist(bins=50)\n",
    "plt.show()"
   ]
  },
  {
   "cell_type": "code",
   "execution_count": null,
   "metadata": {
    "collapsed": true
   },
   "outputs": [],
   "source": []
  }
 ],
 "metadata": {
  "kernelspec": {
   "display_name": "Python3 (ml)",
   "language": "python",
   "name": "ml"
  },
  "language_info": {
   "codemirror_mode": {
    "name": "ipython",
    "version": 3
   },
   "file_extension": ".py",
   "mimetype": "text/x-python",
   "name": "python",
   "nbconvert_exporter": "python",
   "pygments_lexer": "ipython3",
   "version": "3.6.0"
  }
 },
 "nbformat": 4,
 "nbformat_minor": 2
}
