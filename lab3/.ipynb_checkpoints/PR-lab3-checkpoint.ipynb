{
 "cells": [
  {
   "cell_type": "markdown",
   "metadata": {
    "collapsed": true
   },
   "source": [
    "# Mathematical logic (cont.)\n",
    "## Tasks\n",
    "* Make the family tree of Lannisters and \n",
    "    * test imbreeding logic statements, where C(x,y) - x is the child of y and P(x,y) - x is the child of y \n",
    "    * test root logic statement"
   ]
  },
  {
   "attachments": {
    "logic_lannister_formula.png": {
     "image/png": "[encoded data removed]"
    }
   },
   "cell_type": "markdown",
   "metadata": {
    "collapsed": true
   },
   "source": [
    "![logic_lannister_formula.png](attachment:logic_lannister_formula.png)"
   ]
  },
  {
   "cell_type": "code",
   "execution_count": 1,
   "metadata": {},
   "outputs": [
    {
     "name": "stderr",
     "output_type": "stream",
     "text": [
      "INFO:pyDatalog.pyEngine:New fact : link('7','2')\n",
      "INFO:pyDatalog.pyEngine:New fact : link('2','7')\n",
      "INFO:pyDatalog.pyEngine:New fact : link('6','7')\n",
      "INFO:pyDatalog.pyEngine:New fact : link('2','4')\n",
      "INFO:pyDatalog.pyEngine:New fact : link('7','6')\n",
      "INFO:pyDatalog.pyEngine:New fact : link('2','3')\n",
      "INFO:pyDatalog.pyEngine:New fact : link('7','2')\n",
      "INFO:pyDatalog.pyEngine:New fact : link('2','5')\n",
      "INFO:pyDatalog.pyEngine:New fact : link('5','6')\n",
      "INFO:pyDatalog.pyEngine:New fact : link('6','7')\n",
      "INFO:pyDatalog.pyEngine:New fact : link('6','5')\n",
      "INFO:pyDatalog.pyEngine:New fact : link('6','7')\n",
      "INFO:pyDatalog.pyEngine:New fact : link('7','2')\n",
      "INFO:pyDatalog.pyEngine:New fact : link('2','4')\n",
      "INFO:pyDatalog.pyEngine:New fact : link('7','6')\n",
      "INFO:pyDatalog.pyEngine:New fact : link('1','2')\n",
      "INFO:pyDatalog.pyEngine:New fact : link('2','7')\n",
      "INFO:pyDatalog.pyEngine:New fact : link('5','6')\n",
      "INFO:pyDatalog.pyEngine:New fact : link('2','3')\n",
      "INFO:pyDatalog.pyEngine:New fact : link('4','2')\n",
      "INFO:pyDatalog.pyEngine:New fact : link('2','7')\n",
      "INFO:pyDatalog.pyEngine:New fact : link('2','5')\n",
      "INFO:pyDatalog.pyEngine:New fact : link('5','6')\n",
      "INFO:pyDatalog.pyEngine:New fact : link('2','1')\n",
      "INFO:pyDatalog.pyEngine:New fact : link('3','2')\n",
      "INFO:pyDatalog.pyEngine:New fact : link('5','2')\n",
      "INFO:pyDatalog.pyEngine:New fact : link('6','5')\n",
      "INFO:pyDatalog.pyEngine:New fact : link('5','2')\n",
      "INFO:pyDatalog.pyEngine:New fact : link('4','2')\n",
      "INFO:pyDatalog.pyEngine:New fact : link('3','2')\n",
      "INFO:pyDatalog.pyEngine:New fact : link('2','5')\n",
      "INFO:pyDatalog.pyEngine:New fact : link('7','6')\n",
      "INFO:pyDatalog.pyEngine:New fact : link('5','2')\n",
      "INFO:pyDatalog.pyEngine:New fact : link('2','4')\n",
      "INFO:pyDatalog.pyEngine:New fact : link('1','2')\n",
      "INFO:pyDatalog.pyEngine:New fact : link('6','5')\n",
      "INFO:pyDatalog.pyEngine:New fact : link('4','2')\n",
      "INFO:pyDatalog.pyEngine:New fact : link('2','3')\n",
      "INFO:pyDatalog.pyEngine:New fact : link('2','1')\n",
      "INFO:pyDatalog.pyEngine:New fact : link('2','3')\n",
      "INFO:pyDatalog.pyEngine:New fact : link('3','2')\n",
      "INFO:pyDatalog.pyEngine:New fact : can_reach('2','3')\n",
      "INFO:pyDatalog.pyEngine:New fact : !=('7','3') is True\n",
      "INFO:pyDatalog.pyEngine:New fact : !=('5','3') is True\n",
      "INFO:pyDatalog.pyEngine:New fact : !=('4','3') is True\n",
      "INFO:pyDatalog.pyEngine:New fact : link('1','2')\n",
      "INFO:pyDatalog.pyEngine:New fact : !=('1','3') is True\n",
      "INFO:pyDatalog.pyEngine:New fact : can_reach('7','3')\n",
      "INFO:pyDatalog.pyEngine:New fact : can_reach('5','3')\n",
      "INFO:pyDatalog.pyEngine:New fact : can_reach('4','3')\n",
      "INFO:pyDatalog.pyEngine:New fact : can_reach('7','3')\n",
      "INFO:pyDatalog.pyEngine:New fact : can_reach('4','3')\n",
      "INFO:pyDatalog.pyEngine:New fact : link('2','1')\n",
      "INFO:pyDatalog.pyEngine:New fact : can_reach('5','3')\n",
      "INFO:pyDatalog.pyEngine:New fact : can_reach('1','3')\n",
      "INFO:pyDatalog.pyEngine:New fact : !=('2','3') is True\n",
      "INFO:pyDatalog.pyEngine:New fact : _pyD_query1('4')\n",
      "INFO:pyDatalog.pyEngine:New fact : _pyD_query1('5')\n",
      "INFO:pyDatalog.pyEngine:New fact : _pyD_query1('7')\n",
      "INFO:pyDatalog.pyEngine:New fact : !=('6','3') is True\n",
      "INFO:pyDatalog.pyEngine:New fact : can_reach('2','3')\n",
      "INFO:pyDatalog.pyEngine:New fact : can_reach('6','3')\n",
      "INFO:pyDatalog.pyEngine:New fact : can_reach('6','3')\n",
      "INFO:pyDatalog.pyEngine:New fact : can_reach('1','3')\n",
      "INFO:pyDatalog.pyEngine:New fact : _pyD_query1('1')\n",
      "INFO:pyDatalog.pyEngine:New fact : _pyD_query1('6')\n",
      "INFO:pyDatalog.pyEngine:New fact : _pyD_query1('2')\n"
     ]
    },
    {
     "name": "stdout",
     "output_type": "stream",
     "text": [
      "Y\n",
      "-\n",
      "5\n",
      "2\n",
      "4\n",
      "1\n",
      "7\n",
      "6\n"
     ]
    }
   ],
   "source": [
    "from pyDatalog import pyDatalog\n",
    "import logging\n",
    "from pyDatalog import pyEngine\n",
    "pyEngine.Logging = True\n",
    "logging.basicConfig(level=logging.INFO)\n",
    "pyDatalog.create_terms('link, can_reach,X,Y,Z')\n",
    "+link(1,2)\n",
    "+link(2,3)\n",
    "+link(2,4)\n",
    "+link(2,5)\n",
    "+link(5,6)\n",
    "+link(6,7)\n",
    "+link(7,2)\n",
    "link(X,Y) <= link(Y,X)\n",
    "can_reach(X,Y) <= link(X,Y)\n",
    "can_reach(X,Y) <= link(X,Z) & can_reach(Z,Y) & (X!=Y)\n",
    "print (can_reach(Y,3))"
   ]
  },
  {
   "cell_type": "code",
   "execution_count": 2,
   "metadata": {},
   "outputs": [
    {
     "data": {
      "image/png": "[encoded data removed]",
      "text/plain": [
       "<matplotlib.figure.Figure at 0x261d3b5b7b8>"
      ]
     },
     "metadata": {},
     "output_type": "display_data"
    }
   ],
   "source": [
    "from matplotlib import pyplot as plt\n",
    "from matplotlib_venn import venn3, venn2_circles\n",
    "set1 = set(['A', 'B', 'C', 'D'])\n",
    "set2 = set(['B', 'C', 'D', 'E'])\n",
    "set3 = set(['C', 'D',' E', 'F', 'G'])\n",
    "\n",
    "venn3([set1, set2, set3], ('Set1', 'Set2', 'Set3'))\n",
    "plt.show()"
   ]
  },
  {
   "cell_type": "code",
   "execution_count": 3,
   "metadata": {},
   "outputs": [
    {
     "name": "stderr",
     "output_type": "stream",
     "text": [
      "INFO:pyDatalog.pyEngine:New fact : married('Mary','John')\n",
      "INFO:pyDatalog.pyEngine:New fact : married('John','Mary')\n",
      "INFO:pyDatalog.pyEngine:New fact : _pyD_query2('John','Mary')\n",
      "INFO:pyDatalog.pyEngine:New fact : _pyD_query2('Mary','John')\n"
     ]
    },
    {
     "name": "stdout",
     "output_type": "stream",
     "text": [
      "X    | Y   \n",
      "-----|-----\n",
      "Mary | John\n",
      "John | Mary\n"
     ]
    }
   ],
   "source": [
    "from sqlalchemy.ext.declarative import declarative_base\n",
    "from sqlalchemy import create_engine\n",
    "from sqlalchemy.orm import sessionmaker\n",
    "from sqlalchemy import Column, Integer, String, ForeignKey\n",
    "\n",
    "# define a base class with SQLAlchemy and pyDatalog capabilities\n",
    "Base = declarative_base(cls=pyDatalog.Mixin, metaclass=pyDatalog.sqlMetaMixin)\n",
    "# create database in memory\n",
    "engine = create_engine('sqlite:///:memory:', echo=False)\n",
    "\n",
    "# open a session on a database, then associate it to the Base class\n",
    "Session = sessionmaker(bind=engine)\n",
    "session = Session()\n",
    "Base.session = session\n",
    "\n",
    "class Employee(Base): # Employee inherits from the Base class\n",
    "    __tablename__ = 'employee' # data are stored in the Employee table\n",
    "\n",
    "    name = Column(String, primary_key=True)\n",
    "    manager_name = Column(String, ForeignKey('employee.name'))\n",
    "    salary = Column(Integer)\n",
    "    def __init__(self, name, manager, salary): \n",
    "        # call the initialization method of the Mixin class\n",
    "        super(Employee, self).__init__()\n",
    "        self.name = name\n",
    "        self.manager = manager     # direct manager of the employee, or None\n",
    "        self.salary = salary       # monthly salary of the employee\n",
    "    \n",
    "    def __repr__(self): # specifies how to display an Employee\n",
    "        return self.name\n",
    "    \n",
    "# now create the table\n",
    "Base.metadata.create_all(engine)\n",
    "pyDatalog.create_terms('has_car, married, X')\n",
    "married(X,Y) <= married(Y,X)\n",
    "John = Employee('John', None, 6800)\n",
    "Mary = Employee('Mary', John, 6300)\n",
    "Sam = Employee('Sam', Mary, 5900)\n",
    "#+ has_car(Mary)\n",
    "+ married(Mary,John)\n",
    "#print(has_car(X))\n",
    "print(married(X,Y))"
   ]
  },
  {
   "cell_type": "code",
   "execution_count": null,
   "metadata": {
    "collapsed": true
   },
   "outputs": [],
   "source": []
  },
  {
   "cell_type": "code",
   "execution_count": null,
   "metadata": {
    "collapsed": true
   },
   "outputs": [],
   "source": []
  }
 ],
 "metadata": {
  "anaconda-cloud": {},
  "kernelspec": {
   "display_name": "Python [conda root]",
   "language": "python",
   "name": "conda-root-py"
  },
  "language_info": {
   "codemirror_mode": {
    "name": "ipython",
    "version": 3
   },
   "file_extension": ".py",
   "mimetype": "text/x-python",
   "name": "python",
   "nbconvert_exporter": "python",
   "pygments_lexer": "ipython3",
   "version": "3.5.2"
  }
 },
 "nbformat": 4,
 "nbformat_minor": 2
}
