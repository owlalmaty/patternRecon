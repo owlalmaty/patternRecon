{
 "cells": [
  {
   "cell_type": "code",
   "execution_count": 1,
   "metadata": {
    "collapsed": true
   },
   "outputs": [],
   "source": [
    "import pandas as pd\n",
    "import numpy as np"
   ]
  },
  {
   "cell_type": "code",
   "execution_count": 2,
   "metadata": {
    "collapsed": true
   },
   "outputs": [],
   "source": [
    "train = pd.read_csv('train.csv')\n",
    "test = pd.read_csv('test.csv')"
   ]
  },
  {
   "cell_type": "code",
   "execution_count": 3,
   "metadata": {
    "collapsed": false
   },
   "outputs": [
    {
     "data": {
      "text/plain": [
       "((7352, 563), (2947, 563))"
      ]
     },
     "execution_count": 3,
     "metadata": {},
     "output_type": "execute_result"
    }
   ],
   "source": [
    "train.shape, test.shape"
   ]
  },
  {
   "cell_type": "code",
   "execution_count": 4,
   "metadata": {
    "collapsed": false
   },
   "outputs": [
    {
     "data": {
      "text/html": [
       "<div>\n",
       "<table border=\"1\" class=\"dataframe\">\n",
       "  <thead>\n",
       "    <tr style=\"text-align: right;\">\n",
       "      <th></th>\n",
       "      <th>tBodyAcc-mean()-X</th>\n",
       "      <th>tBodyAcc-mean()-Y</th>\n",
       "      <th>tBodyAcc-mean()-Z</th>\n",
       "      <th>tBodyAcc-std()-X</th>\n",
       "      <th>tBodyAcc-std()-Y</th>\n",
       "      <th>tBodyAcc-std()-Z</th>\n",
       "      <th>tBodyAcc-mad()-X</th>\n",
       "      <th>tBodyAcc-mad()-Y</th>\n",
       "      <th>tBodyAcc-mad()-Z</th>\n",
       "      <th>tBodyAcc-max()-X</th>\n",
       "      <th>...</th>\n",
       "      <th>fBodyBodyGyroJerkMag-kurtosis()</th>\n",
       "      <th>angle(tBodyAccMean,gravity)</th>\n",
       "      <th>angle(tBodyAccJerkMean),gravityMean)</th>\n",
       "      <th>angle(tBodyGyroMean,gravityMean)</th>\n",
       "      <th>angle(tBodyGyroJerkMean,gravityMean)</th>\n",
       "      <th>angle(X,gravityMean)</th>\n",
       "      <th>angle(Y,gravityMean)</th>\n",
       "      <th>angle(Z,gravityMean)</th>\n",
       "      <th>subject</th>\n",
       "      <th>Activity</th>\n",
       "    </tr>\n",
       "  </thead>\n",
       "  <tbody>\n",
       "    <tr>\n",
       "      <th>0</th>\n",
       "      <td>0.288585</td>\n",
       "      <td>-0.020294</td>\n",
       "      <td>-0.132905</td>\n",
       "      <td>-0.995279</td>\n",
       "      <td>-0.983111</td>\n",
       "      <td>-0.913526</td>\n",
       "      <td>-0.995112</td>\n",
       "      <td>-0.983185</td>\n",
       "      <td>-0.923527</td>\n",
       "      <td>-0.934724</td>\n",
       "      <td>...</td>\n",
       "      <td>-0.710304</td>\n",
       "      <td>-0.112754</td>\n",
       "      <td>0.030400</td>\n",
       "      <td>-0.464761</td>\n",
       "      <td>-0.018446</td>\n",
       "      <td>-0.841247</td>\n",
       "      <td>0.179941</td>\n",
       "      <td>-0.058627</td>\n",
       "      <td>1</td>\n",
       "      <td>STANDING</td>\n",
       "    </tr>\n",
       "    <tr>\n",
       "      <th>1</th>\n",
       "      <td>0.278419</td>\n",
       "      <td>-0.016411</td>\n",
       "      <td>-0.123520</td>\n",
       "      <td>-0.998245</td>\n",
       "      <td>-0.975300</td>\n",
       "      <td>-0.960322</td>\n",
       "      <td>-0.998807</td>\n",
       "      <td>-0.974914</td>\n",
       "      <td>-0.957686</td>\n",
       "      <td>-0.943068</td>\n",
       "      <td>...</td>\n",
       "      <td>-0.861499</td>\n",
       "      <td>0.053477</td>\n",
       "      <td>-0.007435</td>\n",
       "      <td>-0.732626</td>\n",
       "      <td>0.703511</td>\n",
       "      <td>-0.844788</td>\n",
       "      <td>0.180289</td>\n",
       "      <td>-0.054317</td>\n",
       "      <td>1</td>\n",
       "      <td>STANDING</td>\n",
       "    </tr>\n",
       "    <tr>\n",
       "      <th>2</th>\n",
       "      <td>0.279653</td>\n",
       "      <td>-0.019467</td>\n",
       "      <td>-0.113462</td>\n",
       "      <td>-0.995380</td>\n",
       "      <td>-0.967187</td>\n",
       "      <td>-0.978944</td>\n",
       "      <td>-0.996520</td>\n",
       "      <td>-0.963668</td>\n",
       "      <td>-0.977469</td>\n",
       "      <td>-0.938692</td>\n",
       "      <td>...</td>\n",
       "      <td>-0.760104</td>\n",
       "      <td>-0.118559</td>\n",
       "      <td>0.177899</td>\n",
       "      <td>0.100699</td>\n",
       "      <td>0.808529</td>\n",
       "      <td>-0.848933</td>\n",
       "      <td>0.180637</td>\n",
       "      <td>-0.049118</td>\n",
       "      <td>1</td>\n",
       "      <td>STANDING</td>\n",
       "    </tr>\n",
       "    <tr>\n",
       "      <th>3</th>\n",
       "      <td>0.279174</td>\n",
       "      <td>-0.026201</td>\n",
       "      <td>-0.123283</td>\n",
       "      <td>-0.996091</td>\n",
       "      <td>-0.983403</td>\n",
       "      <td>-0.990675</td>\n",
       "      <td>-0.997099</td>\n",
       "      <td>-0.982750</td>\n",
       "      <td>-0.989302</td>\n",
       "      <td>-0.938692</td>\n",
       "      <td>...</td>\n",
       "      <td>-0.482845</td>\n",
       "      <td>-0.036788</td>\n",
       "      <td>-0.012892</td>\n",
       "      <td>0.640011</td>\n",
       "      <td>-0.485366</td>\n",
       "      <td>-0.848649</td>\n",
       "      <td>0.181935</td>\n",
       "      <td>-0.047663</td>\n",
       "      <td>1</td>\n",
       "      <td>STANDING</td>\n",
       "    </tr>\n",
       "    <tr>\n",
       "      <th>4</th>\n",
       "      <td>0.276629</td>\n",
       "      <td>-0.016570</td>\n",
       "      <td>-0.115362</td>\n",
       "      <td>-0.998139</td>\n",
       "      <td>-0.980817</td>\n",
       "      <td>-0.990482</td>\n",
       "      <td>-0.998321</td>\n",
       "      <td>-0.979672</td>\n",
       "      <td>-0.990441</td>\n",
       "      <td>-0.942469</td>\n",
       "      <td>...</td>\n",
       "      <td>-0.699205</td>\n",
       "      <td>0.123320</td>\n",
       "      <td>0.122542</td>\n",
       "      <td>0.693578</td>\n",
       "      <td>-0.615971</td>\n",
       "      <td>-0.847865</td>\n",
       "      <td>0.185151</td>\n",
       "      <td>-0.043892</td>\n",
       "      <td>1</td>\n",
       "      <td>STANDING</td>\n",
       "    </tr>\n",
       "  </tbody>\n",
       "</table>\n",
       "<p>5 rows × 563 columns</p>\n",
       "</div>"
      ],
      "text/plain": [
       "   tBodyAcc-mean()-X  tBodyAcc-mean()-Y  tBodyAcc-mean()-Z  tBodyAcc-std()-X  \\\n",
       "0           0.288585          -0.020294          -0.132905         -0.995279   \n",
       "1           0.278419          -0.016411          -0.123520         -0.998245   \n",
       "2           0.279653          -0.019467          -0.113462         -0.995380   \n",
       "3           0.279174          -0.026201          -0.123283         -0.996091   \n",
       "4           0.276629          -0.016570          -0.115362         -0.998139   \n",
       "\n",
       "   tBodyAcc-std()-Y  tBodyAcc-std()-Z  tBodyAcc-mad()-X  tBodyAcc-mad()-Y  \\\n",
       "0         -0.983111         -0.913526         -0.995112         -0.983185   \n",
       "1         -0.975300         -0.960322         -0.998807         -0.974914   \n",
       "2         -0.967187         -0.978944         -0.996520         -0.963668   \n",
       "3         -0.983403         -0.990675         -0.997099         -0.982750   \n",
       "4         -0.980817         -0.990482         -0.998321         -0.979672   \n",
       "\n",
       "   tBodyAcc-mad()-Z  tBodyAcc-max()-X    ...     \\\n",
       "0         -0.923527         -0.934724    ...      \n",
       "1         -0.957686         -0.943068    ...      \n",
       "2         -0.977469         -0.938692    ...      \n",
       "3         -0.989302         -0.938692    ...      \n",
       "4         -0.990441         -0.942469    ...      \n",
       "\n",
       "   fBodyBodyGyroJerkMag-kurtosis()  angle(tBodyAccMean,gravity)  \\\n",
       "0                        -0.710304                    -0.112754   \n",
       "1                        -0.861499                     0.053477   \n",
       "2                        -0.760104                    -0.118559   \n",
       "3                        -0.482845                    -0.036788   \n",
       "4                        -0.699205                     0.123320   \n",
       "\n",
       "   angle(tBodyAccJerkMean),gravityMean)  angle(tBodyGyroMean,gravityMean)  \\\n",
       "0                              0.030400                         -0.464761   \n",
       "1                             -0.007435                         -0.732626   \n",
       "2                              0.177899                          0.100699   \n",
       "3                             -0.012892                          0.640011   \n",
       "4                              0.122542                          0.693578   \n",
       "\n",
       "   angle(tBodyGyroJerkMean,gravityMean)  angle(X,gravityMean)  \\\n",
       "0                             -0.018446             -0.841247   \n",
       "1                              0.703511             -0.844788   \n",
       "2                              0.808529             -0.848933   \n",
       "3                             -0.485366             -0.848649   \n",
       "4                             -0.615971             -0.847865   \n",
       "\n",
       "   angle(Y,gravityMean)  angle(Z,gravityMean)  subject  Activity  \n",
       "0              0.179941             -0.058627        1  STANDING  \n",
       "1              0.180289             -0.054317        1  STANDING  \n",
       "2              0.180637             -0.049118        1  STANDING  \n",
       "3              0.181935             -0.047663        1  STANDING  \n",
       "4              0.185151             -0.043892        1  STANDING  \n",
       "\n",
       "[5 rows x 563 columns]"
      ]
     },
     "execution_count": 4,
     "metadata": {},
     "output_type": "execute_result"
    }
   ],
   "source": [
    "train.head()"
   ]
  },
  {
   "cell_type": "code",
   "execution_count": 5,
   "metadata": {
    "collapsed": false
   },
   "outputs": [
    {
     "data": {
      "text/plain": [
       "array(['STANDING', 'SITTING', 'LAYING', 'WALKING', 'WALKING_DOWNSTAIRS',\n",
       "       'WALKING_UPSTAIRS'], dtype=object)"
      ]
     },
     "execution_count": 5,
     "metadata": {},
     "output_type": "execute_result"
    }
   ],
   "source": [
    "train['Activity'].unique()"
   ]
  },
  {
   "cell_type": "code",
   "execution_count": 6,
   "metadata": {
    "collapsed": true
   },
   "outputs": [],
   "source": [
    "names = {'STANDING':1, 'SITTING':2, 'LAYING':3, 'WALKING':4, 'WALKING_DOWNSTAIRS':5,\n",
    "       'WALKING_UPSTAIRS':6}"
   ]
  },
  {
   "cell_type": "code",
   "execution_count": 7,
   "metadata": {
    "collapsed": true
   },
   "outputs": [],
   "source": [
    "train['Activity'] = train['Activity'].apply(lambda x: names[x])\n",
    "test['Activity'] = test['Activity'].apply(lambda x: names[x])"
   ]
  },
  {
   "cell_type": "code",
   "execution_count": 8,
   "metadata": {
    "collapsed": true
   },
   "outputs": [],
   "source": [
    "X = train.drop('Activity', axis=1)\n",
    "y = train['Activity']"
   ]
  },
  {
   "cell_type": "code",
   "execution_count": null,
   "metadata": {
    "collapsed": true
   },
   "outputs": [],
   "source": []
  },
  {
   "cell_type": "code",
   "execution_count": 9,
   "metadata": {
    "collapsed": false
   },
   "outputs": [
    {
     "name": "stderr",
     "output_type": "stream",
     "text": [
      "Using TensorFlow backend.\n"
     ]
    }
   ],
   "source": [
    "from keras.models import Sequential\n",
    "from keras.layers import Dense"
   ]
  },
  {
   "cell_type": "code",
   "execution_count": 10,
   "metadata": {
    "collapsed": false
   },
   "outputs": [],
   "source": [
    "from keras.utils.np_utils import to_categorical"
   ]
  },
  {
   "cell_type": "code",
   "execution_count": 11,
   "metadata": {
    "collapsed": true
   },
   "outputs": [],
   "source": [
    "from sklearn.model_selection import train_test_split"
   ]
  },
  {
   "cell_type": "code",
   "execution_count": 12,
   "metadata": {
    "collapsed": true
   },
   "outputs": [],
   "source": [
    "X_train, X_test, y_train, y_test = train_test_split(X, y, stratify=y, random_state=50)"
   ]
  },
  {
   "cell_type": "code",
   "execution_count": 13,
   "metadata": {
    "collapsed": true
   },
   "outputs": [],
   "source": [
    "y_train_nn = to_categorical(y_train)\n",
    "y_test_nn = to_categorical(y_test)"
   ]
  },
  {
   "cell_type": "code",
   "execution_count": null,
   "metadata": {
    "collapsed": false
   },
   "outputs": [],
   "source": []
  },
  {
   "cell_type": "code",
   "execution_count": 14,
   "metadata": {
    "collapsed": false
   },
   "outputs": [
    {
     "name": "stderr",
     "output_type": "stream",
     "text": [
      "/home/eugene/anaconda3/lib/python3.5/site-packages/ipykernel/__main__.py:6: UserWarning: Update your `Dense` call to the Keras 2 API: `Dense(12, activation=\"relu\", input_dim=562, kernel_initializer=\"uniform\")`\n",
      "/home/eugene/anaconda3/lib/python3.5/site-packages/ipykernel/__main__.py:7: UserWarning: Update your `Dense` call to the Keras 2 API: `Dense(8, activation=\"relu\", kernel_initializer=\"uniform\")`\n",
      "/home/eugene/anaconda3/lib/python3.5/site-packages/ipykernel/__main__.py:8: UserWarning: Update your `Dense` call to the Keras 2 API: `Dense(7, activation=\"sigmoid\", kernel_initializer=\"uniform\")`\n"
     ]
    }
   ],
   "source": [
    "seed = 7\n",
    "np.random.seed(seed)\n",
    "\n",
    "# create model\n",
    "model = Sequential()\n",
    "model.add(Dense(12, input_dim=X_train.shape[1], init='uniform', activation='relu'))\n",
    "model.add(Dense(8, init='uniform', activation='relu'))\n",
    "model.add(Dense(y_train_nn.shape[1], init='uniform', activation='sigmoid'))\n",
    "# Compile model\n",
    "model.compile(loss='binary_crossentropy', optimizer='adam', metrics=['accuracy'])"
   ]
  },
  {
   "cell_type": "code",
   "execution_count": 15,
   "metadata": {
    "collapsed": false,
    "scrolled": true
   },
   "outputs": [
    {
     "name": "stdout",
     "output_type": "stream",
     "text": [
      "Epoch 1/70\n",
      "5514/5514 [==============================] - 1s 216us/step - loss: 0.6086 - acc: 0.8459\n",
      "Epoch 2/70\n",
      "5514/5514 [==============================] - 0s 81us/step - loss: 0.3988 - acc: 0.8571\n",
      "Epoch 3/70\n",
      "5514/5514 [==============================] - 0s 56us/step - loss: 0.3808 - acc: 0.8571\n",
      "Epoch 4/70\n",
      "5514/5514 [==============================] - 0s 47us/step - loss: 0.3136 - acc: 0.8568\n",
      "Epoch 5/70\n",
      "5514/5514 [==============================] - 0s 50us/step - loss: 0.2864 - acc: 0.8515\n",
      "Epoch 6/70\n",
      "5514/5514 [==============================] - 0s 63us/step - loss: 0.2825 - acc: 0.8547\n",
      "Epoch 7/70\n",
      "5514/5514 [==============================] - 0s 48us/step - loss: 0.2793 - acc: 0.8583\n",
      "Epoch 8/70\n",
      "5514/5514 [==============================] - 0s 47us/step - loss: 0.2727 - acc: 0.8644\n",
      "Epoch 9/70\n",
      "5514/5514 [==============================] - 0s 57us/step - loss: 0.2656 - acc: 0.8677\n",
      "Epoch 10/70\n",
      "5514/5514 [==============================] - 0s 67us/step - loss: 0.2554 - acc: 0.8687\n",
      "Epoch 11/70\n",
      "5514/5514 [==============================] - 0s 63us/step - loss: 0.2363 - acc: 0.8788\n",
      "Epoch 12/70\n",
      "5514/5514 [==============================] - 0s 80us/step - loss: 0.2030 - acc: 0.8944\n",
      "Epoch 13/70\n",
      "5514/5514 [==============================] - 0s 82us/step - loss: 0.1794 - acc: 0.9048\n",
      "Epoch 14/70\n",
      "5514/5514 [==============================] - 0s 75us/step - loss: 0.1689 - acc: 0.9076\n",
      "Epoch 15/70\n",
      "5514/5514 [==============================] - 0s 60us/step - loss: 0.1635 - acc: 0.9072\n",
      "Epoch 16/70\n",
      "5514/5514 [==============================] - 0s 80us/step - loss: 0.1584 - acc: 0.9109\n",
      "Epoch 17/70\n",
      "5514/5514 [==============================] - 0s 63us/step - loss: 0.1543 - acc: 0.9115\n",
      "Epoch 18/70\n",
      "5514/5514 [==============================] - 0s 50us/step - loss: 0.1511 - acc: 0.9145\n",
      "Epoch 19/70\n",
      "5514/5514 [==============================] - 0s 48us/step - loss: 0.1460 - acc: 0.9181\n",
      "Epoch 20/70\n",
      "5514/5514 [==============================] - 0s 77us/step - loss: 0.1419 - acc: 0.9237\n",
      "Epoch 21/70\n",
      "5514/5514 [==============================] - 0s 65us/step - loss: 0.1379 - acc: 0.9301\n",
      "Epoch 22/70\n",
      "5514/5514 [==============================] - 0s 48us/step - loss: 0.1331 - acc: 0.9322\n",
      "Epoch 23/70\n",
      "5514/5514 [==============================] - 0s 46us/step - loss: 0.1299 - acc: 0.9356\n",
      "Epoch 24/70\n",
      "5514/5514 [==============================] - 0s 48us/step - loss: 0.1257 - acc: 0.9391\n",
      "Epoch 25/70\n",
      "5514/5514 [==============================] - 0s 63us/step - loss: 0.1219 - acc: 0.9406\n",
      "Epoch 26/70\n",
      "5514/5514 [==============================] - 0s 70us/step - loss: 0.1182 - acc: 0.9424\n",
      "Epoch 27/70\n",
      "5514/5514 [==============================] - 0s 49us/step - loss: 0.1159 - acc: 0.9435\n",
      "Epoch 28/70\n",
      "5514/5514 [==============================] - 0s 50us/step - loss: 0.1121 - acc: 0.9457\n",
      "Epoch 29/70\n",
      "5514/5514 [==============================] - 0s 49us/step - loss: 0.1095 - acc: 0.9479\n",
      "Epoch 30/70\n",
      "5514/5514 [==============================] - 0s 51us/step - loss: 0.1074 - acc: 0.9486\n",
      "Epoch 31/70\n",
      "5514/5514 [==============================] - 0s 51us/step - loss: 0.1038 - acc: 0.9519\n",
      "Epoch 32/70\n",
      "5514/5514 [==============================] - 0s 47us/step - loss: 0.1011 - acc: 0.9539\n",
      "Epoch 33/70\n",
      "5514/5514 [==============================] - 0s 52us/step - loss: 0.0996 - acc: 0.9540\n",
      "Epoch 34/70\n",
      "5514/5514 [==============================] - 0s 49us/step - loss: 0.0973 - acc: 0.9571\n",
      "Epoch 35/70\n",
      "5514/5514 [==============================] - 0s 48us/step - loss: 0.0942 - acc: 0.9602\n",
      "Epoch 36/70\n",
      "5514/5514 [==============================] - 0s 48us/step - loss: 0.0916 - acc: 0.9628\n",
      "Epoch 37/70\n",
      "5514/5514 [==============================] - 0s 47us/step - loss: 0.0905 - acc: 0.9630\n",
      "Epoch 38/70\n",
      "5514/5514 [==============================] - 0s 50us/step - loss: 0.0884 - acc: 0.9642\n",
      "Epoch 39/70\n",
      "5514/5514 [==============================] - 0s 56us/step - loss: 0.0873 - acc: 0.9644\n",
      "Epoch 40/70\n",
      "5514/5514 [==============================] - 0s 66us/step - loss: 0.0848 - acc: 0.9654\n",
      "Epoch 41/70\n",
      "5514/5514 [==============================] - 0s 80us/step - loss: 0.0832 - acc: 0.9655\n",
      "Epoch 42/70\n",
      "5514/5514 [==============================] - 0s 79us/step - loss: 0.0814 - acc: 0.9669\n",
      "Epoch 43/70\n",
      "5514/5514 [==============================] - 1s 91us/step - loss: 0.0804 - acc: 0.9671\n",
      "Epoch 44/70\n",
      "5514/5514 [==============================] - 0s 80us/step - loss: 0.0804 - acc: 0.9666\n",
      "Epoch 45/70\n",
      "5514/5514 [==============================] - 0s 82us/step - loss: 0.0780 - acc: 0.9674\n",
      "Epoch 46/70\n",
      "5514/5514 [==============================] - 0s 87us/step - loss: 0.0768 - acc: 0.9677\n",
      "Epoch 47/70\n",
      "5514/5514 [==============================] - 0s 71us/step - loss: 0.0756 - acc: 0.9681\n",
      "Epoch 48/70\n",
      "5514/5514 [==============================] - 0s 87us/step - loss: 0.0753 - acc: 0.9680\n",
      "Epoch 49/70\n",
      "5514/5514 [==============================] - 0s 88us/step - loss: 0.0738 - acc: 0.9685\n",
      "Epoch 50/70\n",
      "5514/5514 [==============================] - 1s 96us/step - loss: 0.0729 - acc: 0.9689\n",
      "Epoch 51/70\n",
      "5514/5514 [==============================] - 0s 69us/step - loss: 0.0723 - acc: 0.9685\n",
      "Epoch 52/70\n",
      "5514/5514 [==============================] - 0s 86us/step - loss: 0.0708 - acc: 0.9691\n",
      "Epoch 53/70\n",
      "5514/5514 [==============================] - 0s 87us/step - loss: 0.0706 - acc: 0.9687\n",
      "Epoch 54/70\n",
      "5514/5514 [==============================] - 1s 91us/step - loss: 0.0694 - acc: 0.9687\n",
      "Epoch 55/70\n",
      "5514/5514 [==============================] - 0s 79us/step - loss: 0.0683 - acc: 0.9690\n",
      "Epoch 56/70\n",
      "5514/5514 [==============================] - 0s 86us/step - loss: 0.0677 - acc: 0.9687\n",
      "Epoch 57/70\n",
      "5514/5514 [==============================] - 0s 78us/step - loss: 0.0670 - acc: 0.9685\n",
      "Epoch 58/70\n",
      "5514/5514 [==============================] - 0s 72us/step - loss: 0.0664 - acc: 0.9690\n",
      "Epoch 59/70\n",
      "5514/5514 [==============================] - 0s 64us/step - loss: 0.0645 - acc: 0.9698\n",
      "Epoch 60/70\n",
      "5514/5514 [==============================] - 0s 64us/step - loss: 0.0642 - acc: 0.9703\n",
      "Epoch 61/70\n",
      "5514/5514 [==============================] - 0s 81us/step - loss: 0.0628 - acc: 0.9710\n",
      "Epoch 62/70\n",
      "5514/5514 [==============================] - 0s 84us/step - loss: 0.0608 - acc: 0.9737\n",
      "Epoch 63/70\n",
      "5514/5514 [==============================] - 0s 78us/step - loss: 0.0612 - acc: 0.9726\n",
      "Epoch 64/70\n",
      "5514/5514 [==============================] - 0s 84us/step - loss: 0.0581 - acc: 0.9762\n",
      "Epoch 65/70\n",
      "5514/5514 [==============================] - 0s 86us/step - loss: 0.0572 - acc: 0.9761\n",
      "Epoch 66/70\n",
      "5514/5514 [==============================] - 0s 74us/step - loss: 0.0568 - acc: 0.9771\n",
      "Epoch 67/70\n",
      "5514/5514 [==============================] - 0s 82us/step - loss: 0.0554 - acc: 0.9772\n",
      "Epoch 68/70\n",
      "5514/5514 [==============================] - 0s 73us/step - loss: 0.0537 - acc: 0.9786\n",
      "Epoch 69/70\n",
      "5514/5514 [==============================] - 0s 78us/step - loss: 0.0538 - acc: 0.9788\n",
      "Epoch 70/70\n",
      "5514/5514 [==============================] - 0s 90us/step - loss: 0.0515 - acc: 0.9799\n"
     ]
    },
    {
     "data": {
      "text/plain": [
       "<keras.callbacks.History at 0x7fb6e16b6b38>"
      ]
     },
     "execution_count": 15,
     "metadata": {},
     "output_type": "execute_result"
    }
   ],
   "source": [
    "# Fit the model\n",
    "model.fit(X_train.as_matrix(), y_train_nn, epochs=70, batch_size=100, verbose=1)"
   ]
  },
  {
   "cell_type": "code",
   "execution_count": null,
   "metadata": {
    "collapsed": true
   },
   "outputs": [],
   "source": []
  },
  {
   "cell_type": "code",
   "execution_count": 16,
   "metadata": {
    "collapsed": true
   },
   "outputs": [],
   "source": [
    "from sklearn.metrics import classification_report, accuracy_score"
   ]
  },
  {
   "cell_type": "code",
   "execution_count": 17,
   "metadata": {
    "collapsed": false
   },
   "outputs": [
    {
     "data": {
      "text/plain": [
       "0.96137105549510338"
      ]
     },
     "execution_count": 17,
     "metadata": {},
     "output_type": "execute_result"
    }
   ],
   "source": [
    " accuracy_score(model.predict_classes(X_test.as_matrix()), y_test)"
   ]
  },
  {
   "cell_type": "code",
   "execution_count": 18,
   "metadata": {
    "collapsed": false
   },
   "outputs": [
    {
     "name": "stdout",
     "output_type": "stream",
     "text": [
      "             precision    recall  f1-score   support\n",
      "\n",
      "          1       0.97      0.93      0.95       358\n",
      "          2       0.92      0.97      0.95       303\n",
      "          3       1.00      0.99      1.00       354\n",
      "          4       0.99      0.97      0.98       312\n",
      "          5       0.96      0.94      0.95       250\n",
      "          6       0.92      0.94      0.93       261\n",
      "\n",
      "avg / total       0.96      0.96      0.96      1838\n",
      "\n"
     ]
    }
   ],
   "source": [
    "print(classification_report(model.predict_classes(X_test.as_matrix()), y_test))"
   ]
  },
  {
   "cell_type": "code",
   "execution_count": null,
   "metadata": {
    "collapsed": true
   },
   "outputs": [],
   "source": []
  }
 ],
 "metadata": {
  "anaconda-cloud": {},
  "kernelspec": {
   "display_name": "Python [default]",
   "language": "python",
   "name": "python3"
  },
  "language_info": {
   "codemirror_mode": {
    "name": "ipython",
    "version": 3
   },
   "file_extension": ".py",
   "mimetype": "text/x-python",
   "name": "python",
   "nbconvert_exporter": "python",
   "pygments_lexer": "ipython3",
   "version": "3.5.2"
  }
 },
 "nbformat": 4,
 "nbformat_minor": 1
}
